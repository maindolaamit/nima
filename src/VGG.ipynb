{
 "cells": [
  {
   "cell_type": "markdown",
   "id": "elect-domestic",
   "metadata": {},
   "source": [
    "## Import the libraries"
   ]
  },
  {
   "cell_type": "code",
   "execution_count": 1,
   "id": "handed-nickel",
   "metadata": {},
   "outputs": [],
   "source": [
    "import tensorflow as tf\n",
    "import tensorflow.keras as keras\n",
    "from keras.optimizers import Adam\n",
    "from keras.models import Model\n",
    "from keras.layers import Dense, Dropout"
   ]
  },
  {
   "cell_type": "code",
   "execution_count": 7,
   "id": "young-biology",
   "metadata": {},
   "outputs": [],
   "source": [
    "from loss import earth_movers_distance\n",
    "from utils.get_dataset import get_ava_dataframe, get_rating_columns"
   ]
  },
  {
   "cell_type": "markdown",
   "id": "greenhouse-investor",
   "metadata": {},
   "source": [
    "#### Read the file"
   ]
  },
  {
   "cell_type": "code",
   "execution_count": 4,
   "id": "distinguished-marking",
   "metadata": {},
   "outputs": [],
   "source": [
    "import pandas as pd\n",
    "import matplotlib.pyplot as plt\n",
    "import seaborn as sns"
   ]
  },
  {
   "cell_type": "code",
   "execution_count": 8,
   "id": "characteristic-soviet",
   "metadata": {},
   "outputs": [
    {
     "data": {
      "text/html": [
       "<div>\n",
       "<style scoped>\n",
       "    .dataframe tbody tr th:only-of-type {\n",
       "        vertical-align: middle;\n",
       "    }\n",
       "\n",
       "    .dataframe tbody tr th {\n",
       "        vertical-align: top;\n",
       "    }\n",
       "\n",
       "    .dataframe thead th {\n",
       "        text-align: right;\n",
       "    }\n",
       "</style>\n",
       "<table border=\"1\" class=\"dataframe\">\n",
       "  <thead>\n",
       "    <tr style=\"text-align: right;\">\n",
       "      <th></th>\n",
       "      <th>index</th>\n",
       "      <th>image_id</th>\n",
       "      <th>count_rating_1</th>\n",
       "      <th>count_rating_2</th>\n",
       "      <th>count_rating_3</th>\n",
       "      <th>count_rating_4</th>\n",
       "      <th>count_rating_5</th>\n",
       "      <th>count_rating_6</th>\n",
       "      <th>count_rating_7</th>\n",
       "      <th>count_rating_8</th>\n",
       "      <th>count_rating_9</th>\n",
       "      <th>count_rating_10</th>\n",
       "      <th>tag_1</th>\n",
       "      <th>tag_2</th>\n",
       "      <th>challange_id</th>\n",
       "      <th>rating</th>\n",
       "    </tr>\n",
       "  </thead>\n",
       "  <tbody>\n",
       "    <tr>\n",
       "      <th>0</th>\n",
       "      <td>1</td>\n",
       "      <td>953619</td>\n",
       "      <td>0</td>\n",
       "      <td>1</td>\n",
       "      <td>5</td>\n",
       "      <td>17</td>\n",
       "      <td>38</td>\n",
       "      <td>36</td>\n",
       "      <td>15</td>\n",
       "      <td>6</td>\n",
       "      <td>5</td>\n",
       "      <td>1</td>\n",
       "      <td>1</td>\n",
       "      <td>22</td>\n",
       "      <td>1396</td>\n",
       "      <td>5</td>\n",
       "    </tr>\n",
       "    <tr>\n",
       "      <th>1</th>\n",
       "      <td>2</td>\n",
       "      <td>953958</td>\n",
       "      <td>10</td>\n",
       "      <td>7</td>\n",
       "      <td>15</td>\n",
       "      <td>26</td>\n",
       "      <td>26</td>\n",
       "      <td>21</td>\n",
       "      <td>10</td>\n",
       "      <td>8</td>\n",
       "      <td>1</td>\n",
       "      <td>2</td>\n",
       "      <td>1</td>\n",
       "      <td>21</td>\n",
       "      <td>1396</td>\n",
       "      <td>4</td>\n",
       "    </tr>\n",
       "    <tr>\n",
       "      <th>2</th>\n",
       "      <td>3</td>\n",
       "      <td>954184</td>\n",
       "      <td>0</td>\n",
       "      <td>0</td>\n",
       "      <td>4</td>\n",
       "      <td>8</td>\n",
       "      <td>41</td>\n",
       "      <td>56</td>\n",
       "      <td>10</td>\n",
       "      <td>3</td>\n",
       "      <td>4</td>\n",
       "      <td>0</td>\n",
       "      <td>0</td>\n",
       "      <td>0</td>\n",
       "      <td>1396</td>\n",
       "      <td>6</td>\n",
       "    </tr>\n",
       "    <tr>\n",
       "      <th>3</th>\n",
       "      <td>4</td>\n",
       "      <td>954113</td>\n",
       "      <td>0</td>\n",
       "      <td>1</td>\n",
       "      <td>4</td>\n",
       "      <td>6</td>\n",
       "      <td>48</td>\n",
       "      <td>37</td>\n",
       "      <td>23</td>\n",
       "      <td>5</td>\n",
       "      <td>2</td>\n",
       "      <td>2</td>\n",
       "      <td>15</td>\n",
       "      <td>21</td>\n",
       "      <td>1396</td>\n",
       "      <td>5</td>\n",
       "    </tr>\n",
       "    <tr>\n",
       "      <th>4</th>\n",
       "      <td>5</td>\n",
       "      <td>953980</td>\n",
       "      <td>0</td>\n",
       "      <td>3</td>\n",
       "      <td>6</td>\n",
       "      <td>15</td>\n",
       "      <td>57</td>\n",
       "      <td>39</td>\n",
       "      <td>6</td>\n",
       "      <td>1</td>\n",
       "      <td>1</td>\n",
       "      <td>1</td>\n",
       "      <td>22</td>\n",
       "      <td>38</td>\n",
       "      <td>1396</td>\n",
       "      <td>5</td>\n",
       "    </tr>\n",
       "  </tbody>\n",
       "</table>\n",
       "</div>"
      ],
      "text/plain": [
       "   index  image_id  count_rating_1  count_rating_2  count_rating_3  \\\n",
       "0      1    953619               0               1               5   \n",
       "1      2    953958              10               7              15   \n",
       "2      3    954184               0               0               4   \n",
       "3      4    954113               0               1               4   \n",
       "4      5    953980               0               3               6   \n",
       "\n",
       "   count_rating_4  count_rating_5  count_rating_6  count_rating_7  \\\n",
       "0              17              38              36              15   \n",
       "1              26              26              21              10   \n",
       "2               8              41              56              10   \n",
       "3               6              48              37              23   \n",
       "4              15              57              39               6   \n",
       "\n",
       "   count_rating_8  count_rating_9  count_rating_10  tag_1  tag_2  \\\n",
       "0               6               5                1      1     22   \n",
       "1               8               1                2      1     21   \n",
       "2               3               4                0      0      0   \n",
       "3               5               2                2     15     21   \n",
       "4               1               1                1     22     38   \n",
       "\n",
       "   challange_id rating  \n",
       "0          1396      5  \n",
       "1          1396      4  \n",
       "2          1396      6  \n",
       "3          1396      5  \n",
       "4          1396      5  "
      ]
     },
     "execution_count": 8,
     "metadata": {},
     "output_type": "execute_result"
    }
   ],
   "source": [
    "df = get_ava_dataframe()\n",
    "rating_columns = get_rating_columns()\n",
    "df.head()"
   ]
  },
  {
   "cell_type": "code",
   "execution_count": 9,
   "id": "atlantic-humanity",
   "metadata": {},
   "outputs": [
    {
     "data": {
      "text/plain": [
       "(255530, 16)"
      ]
     },
     "execution_count": 9,
     "metadata": {},
     "output_type": "execute_result"
    }
   ],
   "source": [
    "df.shape"
   ]
  },
  {
   "cell_type": "markdown",
   "id": "ready-wright",
   "metadata": {},
   "source": [
    "### Sample VGG model"
   ]
  },
  {
   "cell_type": "code",
   "execution_count": null,
   "id": "thorough-elevation",
   "metadata": {},
   "outputs": [],
   "source": [
    "import os\n",
    "import matplotlib.pyplot as plt\n",
    "import matplotlib.image as image\n",
    "from keras.applications.vgg16 import VGG16\n",
    "from keras.applications.vgg16 import preprocess_input\n",
    "from keras.applications.vgg16 import decode_predictions\n",
    "from keras.preprocessing.image import load_img\n",
    "from keras.preprocessing.image import img_to_array\n",
    "\n",
    "def get_reshaped_image(image_path, dim):\n",
    "    image = load_img(image_path, target_size=(dim[0], dim[1]))  # load image from file\n",
    "    image = img_to_array(image)  # convert pixes to numpy array\n",
    "    image = image.reshape( ( 1, image.shape[0], image.shape[1], image.shape[2] ) )\n",
    "    return preprocess_input(image)\n",
    "\n",
    "target_shape = (224, 224)\n",
    "model = VGG16()"
   ]
  },
  {
   "cell_type": "code",
   "execution_count": null,
   "id": "duplicate-contrary",
   "metadata": {},
   "outputs": [],
   "source": [
    "image_path = os.path.join(os.path.join(\"../data/AVA/images\"), \"124.jpg\")\n",
    "plt.imshow(image.imread(image_path))\n",
    "image = get_reshaped_image(image_path, target_shape)\n",
    "\n",
    "# Predict the image\n",
    "y_hat = model.predict(image)\n",
    "label = decode_predictions(y_hat)\n",
    "print(label)\n",
    "label = label[0][0]\n",
    "\n",
    "print(f'{label[1]} {label[2]*100:.2f}%')"
   ]
  },
  {
   "cell_type": "code",
   "execution_count": null,
   "id": "popular-angle",
   "metadata": {},
   "outputs": [],
   "source": []
  },
  {
   "cell_type": "code",
   "execution_count": null,
   "id": "silver-fancy",
   "metadata": {},
   "outputs": [],
   "source": [
    "base_model = VGG16(\n",
    "    input_shape=(224, 224, 3),  # Shape of our images\n",
    "    include_top=False,  # Leave out the last fully connected layer\n",
    "    weights=\"imagenet\",\n",
    "    pooling=\"avg\",\n",
    ")\n",
    "for layer in base_model.layers:\n",
    "    layer.trainable = False\n",
    "\n",
    "x = Dropout(0.75)(base_model)\n",
    "x = Dense(10, activation=\"softmax\")(x)"
   ]
  },
  {
   "cell_type": "markdown",
   "id": "plastic-offer",
   "metadata": {},
   "source": [
    "#### Compile network "
   ]
  },
  {
   "cell_type": "code",
   "execution_count": null,
   "id": "apparent-township",
   "metadata": {},
   "outputs": [],
   "source": [
    "base_model\n",
    "base_model.compile(optimizeR=adam(), loss=\"categorical crossentropy\")"
   ]
  }
 ],
 "metadata": {
  "kernelspec": {
   "display_name": "Python 3",
   "language": "python",
   "name": "python3"
  },
  "language_info": {
   "codemirror_mode": {
    "name": "ipython",
    "version": 3
   },
   "file_extension": ".py",
   "mimetype": "text/x-python",
   "name": "python",
   "nbconvert_exporter": "python",
   "pygments_lexer": "ipython3",
   "version": "3.8.6"
  }
 },
 "nbformat": 4,
 "nbformat_minor": 5
}
