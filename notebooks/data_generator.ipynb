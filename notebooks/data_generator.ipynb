{
 "cells": [
  {
   "cell_type": "markdown",
   "id": "incorrect-madrid",
   "metadata": {},
   "source": [
    "## Image generator"
   ]
  },
  {
   "cell_type": "code",
   "execution_count": 71,
   "id": "awful-indicator",
   "metadata": {},
   "outputs": [],
   "source": [
    "import os\n",
    "import modin.pandas as pd\n",
    "import matplotlib.pyplot as plt\n",
    "import seaborn as sns\n",
    "import numpy as np\n",
    "from src.model.data_generator import NimaDataGenerator\n",
    "from src.utils.ava_preprocess import get_ava_csv_df, get_rating_columns"
   ]
  },
  {
   "cell_type": "code",
   "execution_count": 2,
   "id": "peaceful-melbourne",
   "metadata": {},
   "outputs": [
    {
     "data": {
      "text/html": [
       "<div>\n",
       "<style scoped>\n",
       "    .dataframe tbody tr th:only-of-type {\n",
       "        vertical-align: middle;\n",
       "    }\n",
       "\n",
       "    .dataframe tbody tr th {\n",
       "        vertical-align: top;\n",
       "    }\n",
       "\n",
       "    .dataframe thead th {\n",
       "        text-align: right;\n",
       "    }\n",
       "</style>\n",
       "<table border=\"1\" class=\"dataframe\">\n",
       "  <thead>\n",
       "    <tr style=\"text-align: right;\">\n",
       "      <th></th>\n",
       "      <th>index</th>\n",
       "      <th>image_id</th>\n",
       "      <th>count_rating_1</th>\n",
       "      <th>count_rating_2</th>\n",
       "      <th>count_rating_3</th>\n",
       "      <th>count_rating_4</th>\n",
       "      <th>count_rating_5</th>\n",
       "      <th>count_rating_6</th>\n",
       "      <th>count_rating_7</th>\n",
       "      <th>count_rating_8</th>\n",
       "      <th>count_rating_9</th>\n",
       "      <th>count_rating_10</th>\n",
       "      <th>tag_1</th>\n",
       "      <th>tag_2</th>\n",
       "      <th>challange_id</th>\n",
       "    </tr>\n",
       "  </thead>\n",
       "  <tbody>\n",
       "    <tr>\n",
       "      <th>0</th>\n",
       "      <td>1</td>\n",
       "      <td>953619</td>\n",
       "      <td>0</td>\n",
       "      <td>1</td>\n",
       "      <td>5</td>\n",
       "      <td>17</td>\n",
       "      <td>38</td>\n",
       "      <td>36</td>\n",
       "      <td>15</td>\n",
       "      <td>6</td>\n",
       "      <td>5</td>\n",
       "      <td>1</td>\n",
       "      <td>1</td>\n",
       "      <td>22</td>\n",
       "      <td>1396</td>\n",
       "    </tr>\n",
       "    <tr>\n",
       "      <th>1</th>\n",
       "      <td>2</td>\n",
       "      <td>953958</td>\n",
       "      <td>10</td>\n",
       "      <td>7</td>\n",
       "      <td>15</td>\n",
       "      <td>26</td>\n",
       "      <td>26</td>\n",
       "      <td>21</td>\n",
       "      <td>10</td>\n",
       "      <td>8</td>\n",
       "      <td>1</td>\n",
       "      <td>2</td>\n",
       "      <td>1</td>\n",
       "      <td>21</td>\n",
       "      <td>1396</td>\n",
       "    </tr>\n",
       "    <tr>\n",
       "      <th>2</th>\n",
       "      <td>3</td>\n",
       "      <td>954184</td>\n",
       "      <td>0</td>\n",
       "      <td>0</td>\n",
       "      <td>4</td>\n",
       "      <td>8</td>\n",
       "      <td>41</td>\n",
       "      <td>56</td>\n",
       "      <td>10</td>\n",
       "      <td>3</td>\n",
       "      <td>4</td>\n",
       "      <td>0</td>\n",
       "      <td>0</td>\n",
       "      <td>0</td>\n",
       "      <td>1396</td>\n",
       "    </tr>\n",
       "    <tr>\n",
       "      <th>3</th>\n",
       "      <td>4</td>\n",
       "      <td>954113</td>\n",
       "      <td>0</td>\n",
       "      <td>1</td>\n",
       "      <td>4</td>\n",
       "      <td>6</td>\n",
       "      <td>48</td>\n",
       "      <td>37</td>\n",
       "      <td>23</td>\n",
       "      <td>5</td>\n",
       "      <td>2</td>\n",
       "      <td>2</td>\n",
       "      <td>15</td>\n",
       "      <td>21</td>\n",
       "      <td>1396</td>\n",
       "    </tr>\n",
       "    <tr>\n",
       "      <th>4</th>\n",
       "      <td>5</td>\n",
       "      <td>953980</td>\n",
       "      <td>0</td>\n",
       "      <td>3</td>\n",
       "      <td>6</td>\n",
       "      <td>15</td>\n",
       "      <td>57</td>\n",
       "      <td>39</td>\n",
       "      <td>6</td>\n",
       "      <td>1</td>\n",
       "      <td>1</td>\n",
       "      <td>1</td>\n",
       "      <td>22</td>\n",
       "      <td>38</td>\n",
       "      <td>1396</td>\n",
       "    </tr>\n",
       "  </tbody>\n",
       "</table>\n",
       "</div>"
      ],
      "text/plain": [
       "   index  image_id  count_rating_1  count_rating_2  count_rating_3  \\\n",
       "0      1    953619               0               1               5   \n",
       "1      2    953958              10               7              15   \n",
       "2      3    954184               0               0               4   \n",
       "3      4    954113               0               1               4   \n",
       "4      5    953980               0               3               6   \n",
       "\n",
       "   count_rating_4  count_rating_5  count_rating_6  count_rating_7  \\\n",
       "0              17              38              36              15   \n",
       "1              26              26              21              10   \n",
       "2               8              41              56              10   \n",
       "3               6              48              37              23   \n",
       "4              15              57              39               6   \n",
       "\n",
       "   count_rating_8  count_rating_9  count_rating_10  tag_1  tag_2  challange_id  \n",
       "0               6               5                1      1     22          1396  \n",
       "1               8               1                2      1     21          1396  \n",
       "2               3               4                0      0      0          1396  \n",
       "3               5               2                2     15     21          1396  \n",
       "4               1               1                1     22     38          1396  "
      ]
     },
     "execution_count": 2,
     "metadata": {},
     "output_type": "execute_result"
    }
   ],
   "source": [
    "ava_csv_df = get_ava_csv_df()\n",
    "ava_csv_df.head()"
   ]
  },
  {
   "cell_type": "code",
   "execution_count": 101,
   "id": "christian-czech",
   "metadata": {},
   "outputs": [
    {
     "name": "stderr",
     "output_type": "stream",
     "text": [
      "UserWarning: User-defined function verification is still under development in Modin. The function provided is not verified.\n"
     ]
    },
    {
     "data": {
      "text/html": [
       "<div>\n",
       "<style scoped>\n",
       "    .dataframe tbody tr th:only-of-type {\n",
       "        vertical-align: middle;\n",
       "    }\n",
       "\n",
       "    .dataframe tbody tr th {\n",
       "        vertical-align: top;\n",
       "    }\n",
       "\n",
       "    .dataframe thead th {\n",
       "        text-align: right;\n",
       "    }\n",
       "</style>\n",
       "<table border=\"1\" class=\"dataframe\">\n",
       "  <thead>\n",
       "    <tr style=\"text-align: right;\">\n",
       "      <th></th>\n",
       "      <th>image_id</th>\n",
       "      <th>ratings</th>\n",
       "    </tr>\n",
       "  </thead>\n",
       "  <tbody>\n",
       "    <tr>\n",
       "      <th>0</th>\n",
       "      <td>953619</td>\n",
       "      <td>[0, 1, 5, 17, 38, 36, 15, 6, 5, 1]</td>\n",
       "    </tr>\n",
       "    <tr>\n",
       "      <th>1</th>\n",
       "      <td>953958</td>\n",
       "      <td>[10, 7, 15, 26, 26, 21, 10, 8, 1, 2]</td>\n",
       "    </tr>\n",
       "    <tr>\n",
       "      <th>2</th>\n",
       "      <td>954184</td>\n",
       "      <td>[0, 0, 4, 8, 41, 56, 10, 3, 4, 0]</td>\n",
       "    </tr>\n",
       "    <tr>\n",
       "      <th>3</th>\n",
       "      <td>954113</td>\n",
       "      <td>[0, 1, 4, 6, 48, 37, 23, 5, 2, 2]</td>\n",
       "    </tr>\n",
       "    <tr>\n",
       "      <th>4</th>\n",
       "      <td>953980</td>\n",
       "      <td>[0, 3, 6, 15, 57, 39, 6, 1, 1, 1]</td>\n",
       "    </tr>\n",
       "  </tbody>\n",
       "</table>\n",
       "</div>"
      ],
      "text/plain": [
       "   image_id                               ratings\n",
       "0    953619    [0, 1, 5, 17, 38, 36, 15, 6, 5, 1]\n",
       "1    953958  [10, 7, 15, 26, 26, 21, 10, 8, 1, 2]\n",
       "2    954184     [0, 0, 4, 8, 41, 56, 10, 3, 4, 0]\n",
       "3    954113     [0, 1, 4, 6, 48, 37, 23, 5, 2, 2]\n",
       "4    953980     [0, 3, 6, 15, 57, 39, 6, 1, 1, 1]"
      ]
     },
     "execution_count": 101,
     "metadata": {},
     "output_type": "execute_result"
    }
   ],
   "source": [
    "DATA_DIR = 'data/AVA/images'\n",
    "image_files = os.listdir(DATA_DIR)\n",
    "count_columns = get_rating_columns()\n",
    "\n",
    "df = ava_csv_df[['image_id']]\n",
    "df['ratings'] = ava_csv_df[count_columns].apply(lambda x : x.values.tolist(), axis=1)\n",
    "# count_columns\n",
    "df.head()"
   ]
  },
  {
   "cell_type": "code",
   "execution_count": 135,
   "id": "civilian-orchestra",
   "metadata": {},
   "outputs": [
    {
     "name": "stdout",
     "output_type": "stream",
     "text": [
      "[[[0.24287354 0.92724093]\n",
      "  [0.53438362 0.97344584]]\n",
      "\n",
      " [[0.         0.        ]\n",
      "  [0.         0.        ]]]\n",
      "[[[0.10996128 0.45419193]\n",
      "  [0.46047498 0.24746346]]\n",
      "\n",
      " [[0.         0.        ]\n",
      "  [0.         0.        ]]]\n"
     ]
    }
   ],
   "source": [
    "a = np.empty((2, 2,2))\n",
    "b= np.random.random((2,2))\n",
    "print(a)\n",
    "a[0] = b\n",
    "print(a)"
   ]
  },
  {
   "cell_type": "code",
   "execution_count": 119,
   "id": "engaging-bankruptcy",
   "metadata": {},
   "outputs": [
    {
     "data": {
      "text/html": [
       "<div>\n",
       "<style scoped>\n",
       "    .dataframe tbody tr th:only-of-type {\n",
       "        vertical-align: middle;\n",
       "    }\n",
       "\n",
       "    .dataframe tbody tr th {\n",
       "        vertical-align: top;\n",
       "    }\n",
       "\n",
       "    .dataframe thead th {\n",
       "        text-align: right;\n",
       "    }\n",
       "</style>\n",
       "<table border=\"1\" class=\"dataframe\">\n",
       "  <thead>\n",
       "    <tr style=\"text-align: right;\">\n",
       "      <th></th>\n",
       "      <th>image_id</th>\n",
       "      <th>ratings</th>\n",
       "    </tr>\n",
       "  </thead>\n",
       "  <tbody>\n",
       "    <tr>\n",
       "      <th>64</th>\n",
       "      <td>954180</td>\n",
       "      <td>[0, 0, 3, 14, 35, 51, 10, 3, 1, 1]</td>\n",
       "    </tr>\n",
       "    <tr>\n",
       "      <th>65</th>\n",
       "      <td>954014</td>\n",
       "      <td>[0, 3, 7, 26, 57, 19, 2, 1, 1, 3]</td>\n",
       "    </tr>\n",
       "    <tr>\n",
       "      <th>66</th>\n",
       "      <td>954092</td>\n",
       "      <td>[0, 0, 3, 1, 26, 42, 30, 18, 6, 4]</td>\n",
       "    </tr>\n",
       "    <tr>\n",
       "      <th>67</th>\n",
       "      <td>954226</td>\n",
       "      <td>[9, 11, 24, 28, 28, 11, 5, 5, 0, 0]</td>\n",
       "    </tr>\n",
       "    <tr>\n",
       "      <th>68</th>\n",
       "      <td>953946</td>\n",
       "      <td>[0, 0, 4, 4, 34, 56, 14, 8, 5, 0]</td>\n",
       "    </tr>\n",
       "  </tbody>\n",
       "</table>\n",
       "</div>"
      ],
      "text/plain": [
       "    image_id                              ratings\n",
       "64    954180   [0, 0, 3, 14, 35, 51, 10, 3, 1, 1]\n",
       "65    954014    [0, 3, 7, 26, 57, 19, 2, 1, 1, 3]\n",
       "66    954092   [0, 0, 3, 1, 26, 42, 30, 18, 6, 4]\n",
       "67    954226  [9, 11, 24, 28, 28, 11, 5, 5, 0, 0]\n",
       "68    953946    [0, 0, 4, 4, 34, 56, 14, 8, 5, 0]"
      ]
     },
     "execution_count": 119,
     "metadata": {},
     "output_type": "execute_result"
    }
   ],
   "source": [
    "batch_size = 32\n",
    "index = 2\n",
    "indexes = np.arange(len(df))\n",
    "batch_indexes = indexes[index*batch_size: (index+1)*batch_size]\n",
    "batch_sample = df.iloc[batch_indexes]\n",
    "# batch_indexes\n",
    "batch_sample[:5]"
   ]
  },
  {
   "cell_type": "code",
   "execution_count": 97,
   "id": "naughty-biodiversity",
   "metadata": {},
   "outputs": [
    {
     "data": {
      "text/plain": [
       "array([0.        , 0.00806452, 0.04032258, 0.13709677, 0.30645161,\n",
       "       0.29032258, 0.12096774, 0.0483871 , 0.04032258, 0.00806452])"
      ]
     },
     "execution_count": 97,
     "metadata": {},
     "output_type": "execute_result"
    }
   ],
   "source": [
    "npl = np.array(df.iloc[0,1])\n",
    "npl/npl.sum()"
   ]
  },
  {
   "cell_type": "code",
   "execution_count": 106,
   "id": "simplified-refrigerator",
   "metadata": {},
   "outputs": [
    {
     "name": "stdout",
     "output_type": "stream",
     "text": [
      "Found 15084 valid image filenames belonging to 10 classes.\n"
     ]
    }
   ],
   "source": [
    "data_generator = NimaDataGenerator(df, img_directory = DATA_DIR, x_col='image_id', y_col='ratings', preprocess_input=None, batch_size=32)"
   ]
  },
  {
   "cell_type": "code",
   "execution_count": 107,
   "id": "collaborative-davis",
   "metadata": {},
   "outputs": [
    {
     "data": {
      "text/html": [
       "<div>\n",
       "<style scoped>\n",
       "    .dataframe tbody tr th:only-of-type {\n",
       "        vertical-align: middle;\n",
       "    }\n",
       "\n",
       "    .dataframe tbody tr th {\n",
       "        vertical-align: top;\n",
       "    }\n",
       "\n",
       "    .dataframe thead th {\n",
       "        text-align: right;\n",
       "    }\n",
       "</style>\n",
       "<table border=\"1\" class=\"dataframe\">\n",
       "  <thead>\n",
       "    <tr style=\"text-align: right;\">\n",
       "      <th></th>\n",
       "      <th>image_id</th>\n",
       "      <th>ratings</th>\n",
       "    </tr>\n",
       "  </thead>\n",
       "  <tbody>\n",
       "    <tr>\n",
       "      <th>5157</th>\n",
       "      <td>101759</td>\n",
       "      <td>[8, 22, 36, 80, 80, 55, 14, 8, 2, 1]</td>\n",
       "    </tr>\n",
       "    <tr>\n",
       "      <th>4089</th>\n",
       "      <td>112059</td>\n",
       "      <td>[7, 7, 35, 48, 70, 56, 21, 9, 8, 3]</td>\n",
       "    </tr>\n",
       "    <tr>\n",
       "      <th>13521</th>\n",
       "      <td>103148</td>\n",
       "      <td>[0, 1, 10, 38, 87, 46, 20, 1, 2, 0]</td>\n",
       "    </tr>\n",
       "    <tr>\n",
       "      <th>326</th>\n",
       "      <td>135448</td>\n",
       "      <td>[4, 10, 29, 43, 45, 31, 10, 5, 2, 1]</td>\n",
       "    </tr>\n",
       "    <tr>\n",
       "      <th>4539</th>\n",
       "      <td>13078</td>\n",
       "      <td>[18, 36, 36, 50, 36, 15, 10, 1, 2, 2]</td>\n",
       "    </tr>\n",
       "  </tbody>\n",
       "</table>\n",
       "</div>"
      ],
      "text/plain": [
       "       image_id                                ratings\n",
       "5157     101759   [8, 22, 36, 80, 80, 55, 14, 8, 2, 1]\n",
       "4089     112059    [7, 7, 35, 48, 70, 56, 21, 9, 8, 3]\n",
       "13521    103148    [0, 1, 10, 38, 87, 46, 20, 1, 2, 0]\n",
       "326      135448   [4, 10, 29, 43, 45, 31, 10, 5, 2, 1]\n",
       "4539      13078  [18, 36, 36, 50, 36, 15, 10, 1, 2, 2]"
      ]
     },
     "execution_count": 107,
     "metadata": {},
     "output_type": "execute_result"
    }
   ],
   "source": [
    "from sklearn.model_selection import train_test_split\n",
    "\n",
    "df_train, df_valid = train_test_split(df, test_size=0.1)\n",
    "df_train.head()"
   ]
  },
  {
   "cell_type": "code",
   "execution_count": 109,
   "id": "verbal-checklist",
   "metadata": {},
   "outputs": [],
   "source": [
    "# Import the libraries \n",
    "from tensorflow.keras.layers import Dropout, Flatten, MaxPool2D, Conv2D, Dense\n",
    "from tensorflow.keras.models import Sequential, Model\n",
    "from tensorflow.keras.callbacks import EarlyStopping, ModelCheckpoint\n",
    "from tensorflow.keras.optimizers import Adam\n",
    "from src.model.loss import earth_movers_distance\n",
    "\n",
    "# model = Sequential()\n",
    "# model.add(Conv2D(filters=32, kernel_size=3, activation='relu', input_shape=(224, 224, 3)))\n",
    "# model.add(MaxPool2D(pool_size=2, strides=2))\n",
    "# model.add(Dropout(0.2))\n",
    "\n",
    "# model.add(Conv2D(filters=32, kernel_size=3, activation='relu', input_shape=(224, 224, 3)))\n",
    "# model.add(MaxPool2D(pool_size=2, strides=2))\n",
    "# model.add(Dropout(0.2))\n",
    "\n",
    "# model.add(Conv2D(filters=32, kernel_size=3, activation='relu', input_shape=(224, 224, 3)))\n",
    "# model.add(MaxPool2D(pool_size=2, strides=2))\n",
    "# model.add(Dropout(0.2))\n",
    "\n",
    "# model.add(Flatten())\n",
    "# model.add(Dense(512, activation='relu'))\n",
    "# model.add(Dense(10, activation='softmax'))\n",
    "# model.summary()\n",
    "\n",
    "model.compile(optimizer=Adam(), loss=earth_movers_distance)"
   ]
  },
  {
   "cell_type": "code",
   "execution_count": 114,
   "id": "sharp-bernard",
   "metadata": {},
   "outputs": [
    {
     "name": "stdout",
     "output_type": "stream",
     "text": [
      "Found 13575 valid image filenames belonging to 10 classes.\n",
      "Found 1509 valid image filenames belonging to 10 classes.\n"
     ]
    }
   ],
   "source": [
    "train_datagen = NimaDataGenerator(\n",
    "    df_train,\n",
    "    img_directory=DATA_DIR,\n",
    "    x_col=\"image_id\",\n",
    "    y_col=\"ratings\",\n",
    "    preprocess_input=None,\n",
    "    batch_size=32,\n",
    "    input_size=(256, 256, 3),\n",
    "    crop_size=(224, 224),\n",
    ")\n",
    "\n",
    "valid_datagen = NimaDataGenerator(\n",
    "    df_valid,\n",
    "    img_directory=DATA_DIR,\n",
    "    x_col=\"image_id\",\n",
    "    y_col=\"ratings\",\n",
    "    preprocess_input=None,\n",
    "    batch_size=32,\n",
    "    input_size=(256, 256, 3),\n",
    "    crop_size=(224, 224),\n",
    ")\n",
    "\n",
    "earlystopping = EarlyStopping(\n",
    "    min_delta=0.001, monitor=\"val_loss\", patience=4, restore_best_weights=True\n",
    ")\n",
    "\n",
    "CKPT_DIR = \"src/weights\"\n",
    "checkpoint = ModelCheckpoint(\n",
    "    filepath=CKPT_DIR,\n",
    "    save_weights_only=True,\n",
    "    monitor=\"val_loss\",\n",
    "    mode=\"max\",\n",
    "    save_best_only=True,\n",
    ")"
   ]
  },
  {
   "cell_type": "code",
   "execution_count": 118,
   "id": "cardiovascular-hunter",
   "metadata": {},
   "outputs": [
    {
     "ename": "TypeError",
     "evalue": "'numpy.float64' object cannot be interpreted as an integer",
     "output_type": "error",
     "traceback": [
      "\u001b[0;31m---------------------------------------------------------------------------\u001b[0m",
      "\u001b[0;31mTypeError\u001b[0m                                 Traceback (most recent call last)",
      "\u001b[0;32m<ipython-input-118-0ad193b8ea2c>\u001b[0m in \u001b[0;36m<module>\u001b[0;34m\u001b[0m\n\u001b[1;32m      1\u001b[0m \u001b[0;31m# Train and fit model\u001b[0m\u001b[0;34m\u001b[0m\u001b[0;34m\u001b[0m\u001b[0;34m\u001b[0m\u001b[0m\n\u001b[0;32m----> 2\u001b[0;31m history = model.fit(\n\u001b[0m\u001b[1;32m      3\u001b[0m     \u001b[0mtrain_datagen\u001b[0m\u001b[0;34m,\u001b[0m\u001b[0;34m\u001b[0m\u001b[0;34m\u001b[0m\u001b[0m\n\u001b[1;32m      4\u001b[0m     \u001b[0mvalidation_data\u001b[0m\u001b[0;34m=\u001b[0m\u001b[0mvalid_datagen\u001b[0m\u001b[0;34m,\u001b[0m\u001b[0;34m\u001b[0m\u001b[0;34m\u001b[0m\u001b[0m\n\u001b[1;32m      5\u001b[0m     \u001b[0mcallbacks\u001b[0m\u001b[0;34m=\u001b[0m\u001b[0;34m[\u001b[0m\u001b[0mearlystopping\u001b[0m\u001b[0;34m,\u001b[0m \u001b[0mcheckpoint\u001b[0m\u001b[0;34m]\u001b[0m\u001b[0;34m,\u001b[0m\u001b[0;34m\u001b[0m\u001b[0;34m\u001b[0m\u001b[0m\n",
      "\u001b[0;32m/opt/conda/lib/python3.8/site-packages/tensorflow/python/keras/engine/training.py\u001b[0m in \u001b[0;36mfit\u001b[0;34m(self, x, y, batch_size, epochs, verbose, callbacks, validation_split, validation_data, shuffle, class_weight, sample_weight, initial_epoch, steps_per_epoch, validation_steps, validation_batch_size, validation_freq, max_queue_size, workers, use_multiprocessing)\u001b[0m\n\u001b[1;32m   1041\u001b[0m               (x, y, sample_weight), validation_split=validation_split))\n\u001b[1;32m   1042\u001b[0m \u001b[0;34m\u001b[0m\u001b[0m\n\u001b[0;32m-> 1043\u001b[0;31m     \u001b[0;32mif\u001b[0m \u001b[0mvalidation_data\u001b[0m\u001b[0;34m:\u001b[0m\u001b[0;34m\u001b[0m\u001b[0;34m\u001b[0m\u001b[0m\n\u001b[0m\u001b[1;32m   1044\u001b[0m       val_x, val_y, val_sample_weight = (\n\u001b[1;32m   1045\u001b[0m           data_adapter.unpack_x_y_sample_weight(validation_data))\n",
      "\u001b[0;31mTypeError\u001b[0m: 'numpy.float64' object cannot be interpreted as an integer"
     ]
    }
   ],
   "source": [
    "# Train and fit model\n",
    "history = model.fit(\n",
    "    train_datagen,\n",
    "    validation_data=valid_datagen,\n",
    "    callbacks=[earlystopping, checkpoint],\n",
    "#     use_multiprocessing=True,\n",
    "    epochs=50,\n",
    "    verbose=1,\n",
    ")\n"
   ]
  }
 ],
 "metadata": {
  "kernelspec": {
   "display_name": "Python 3",
   "language": "python",
   "name": "python3"
  },
  "language_info": {
   "codemirror_mode": {
    "name": "ipython",
    "version": 3
   },
   "file_extension": ".py",
   "mimetype": "text/x-python",
   "name": "python",
   "nbconvert_exporter": "python",
   "pygments_lexer": "ipython3",
   "version": "3.8.6"
  }
 },
 "nbformat": 4,
 "nbformat_minor": 5
}
