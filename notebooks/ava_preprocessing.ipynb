{
 "cells": [
  {
   "cell_type": "markdown",
   "metadata": {
    "id": "fiuW2BohLEEA"
   },
   "source": [
    "## Mount the google drive and then change the current directory"
   ]
  },
  {
   "cell_type": "code",
   "execution_count": 1,
   "metadata": {
    "colab": {
     "base_uri": "https://localhost:8080/"
    },
    "executionInfo": {
     "elapsed": 588,
     "status": "ok",
     "timestamp": 1626966143567,
     "user": {
      "displayName": "Amit Maindola",
      "photoUrl": "https://lh3.googleusercontent.com/a-/AOh14GhzpzMKHLFkNBrZ_a1LlLtWjJtcRcJCVdql9k0J8SA=s64",
      "userId": "08125967203482699969"
     },
     "user_tz": -330
    },
    "id": "df1B8iimTwgC",
    "outputId": "44e3d180-1f72-40f2-f1d6-c92ab39dd6fc"
   },
   "outputs": [
    {
     "name": "stdout",
     "output_type": "stream",
     "text": [
      "data  drive  nima  sample_data\n"
     ]
    }
   ],
   "source": [
    "! ls"
   ]
  },
  {
   "cell_type": "code",
   "execution_count": 1,
   "metadata": {
    "colab": {
     "base_uri": "https://localhost:8080/"
    },
    "executionInfo": {
     "elapsed": 23682,
     "status": "ok",
     "timestamp": 1626970299258,
     "user": {
      "displayName": "Amit Maindola",
      "photoUrl": "https://lh3.googleusercontent.com/a-/AOh14GhzpzMKHLFkNBrZ_a1LlLtWjJtcRcJCVdql9k0J8SA=s64",
      "userId": "08125967203482699969"
     },
     "user_tz": -330
    },
    "id": "MAS4vn5hVMCN",
    "outputId": "0a200489-2faa-42f0-9569-0e6c8c629ce0"
   },
   "outputs": [
    {
     "name": "stdout",
     "output_type": "stream",
     "text": [
      "Mounted at /content/drive\n"
     ]
    }
   ],
   "source": [
    "from google.colab import drive\n",
    "drive.mount('/content/drive')\n"
   ]
  },
  {
   "cell_type": "markdown",
   "metadata": {
    "id": "spM9qpTtV5hi"
   },
   "source": [
    "Create a data folder and then copy data to it\n",
    "Copy the project code "
   ]
  },
  {
   "cell_type": "code",
   "execution_count": 2,
   "metadata": {
    "colab": {
     "base_uri": "https://localhost:8080/"
    },
    "executionInfo": {
     "elapsed": 1201668,
     "status": "ok",
     "timestamp": 1626971520595,
     "user": {
      "displayName": "Amit Maindola",
      "photoUrl": "https://lh3.googleusercontent.com/a-/AOh14GhzpzMKHLFkNBrZ_a1LlLtWjJtcRcJCVdql9k0J8SA=s64",
      "userId": "08125967203482699969"
     },
     "user_tz": -330
    },
    "id": "fiyroGdAVd-C",
    "outputId": "8cf8e896-1b3b-439a-d232-3d2119f03d8c"
   },
   "outputs": [
    {
     "name": "stdout",
     "output_type": "stream",
     "text": [
      "^C\n"
     ]
    }
   ],
   "source": [
    "! mkdir data\n",
    "! ls data\n",
    "! cp -r /content/drive/MyDrive/Colab\\ Notebooks/img-quality-assesment/data/AVA /content/data\n",
    "! cp -r /content/drive/MyDrive/Colab\\ Notebooks/img-quality-assesment/nima /content"
   ]
  },
  {
   "cell_type": "markdown",
   "metadata": {
    "id": "XQzL-WOgWpVN"
   },
   "source": [
    "### Import the libraries\n",
    "create some path variables"
   ]
  },
  {
   "cell_type": "code",
   "execution_count": 1,
   "metadata": {
    "colab": {
     "base_uri": "https://localhost:8080/"
    },
    "executionInfo": {
     "elapsed": 3903,
     "status": "ok",
     "timestamp": 1626976334484,
     "user": {
      "displayName": "Amit Maindola",
      "photoUrl": "https://lh3.googleusercontent.com/a-/AOh14GhzpzMKHLFkNBrZ_a1LlLtWjJtcRcJCVdql9k0J8SA=s64",
      "userId": "08125967203482699969"
     },
     "user_tz": -330
    },
    "id": "fl2RJ3ztWJqc",
    "outputId": "aebd90bc-d694-4027-c712-fd494ead927e"
   },
   "outputs": [
    {
     "name": "stdout",
     "output_type": "stream",
     "text": [
      "Requirement already satisfied: livelossplot in /opt/conda/lib/python3.8/site-packages (0.5.4)\n",
      "Requirement already satisfied: ipython in /opt/conda/lib/python3.8/site-packages (from livelossplot) (7.19.0)\n",
      "Requirement already satisfied: bokeh in /opt/conda/lib/python3.8/site-packages (from livelossplot) (2.2.3)\n",
      "Requirement already satisfied: matplotlib in /opt/conda/lib/python3.8/site-packages (from livelossplot) (3.3.3)\n",
      "Requirement already satisfied: PyYAML>=3.10 in /opt/conda/lib/python3.8/site-packages (from bokeh->livelossplot) (5.4.1)\n",
      "Requirement already satisfied: pillow>=7.1.0 in /opt/conda/lib/python3.8/site-packages (from bokeh->livelossplot) (8.1.0)\n",
      "Requirement already satisfied: Jinja2>=2.7 in /opt/conda/lib/python3.8/site-packages (from bokeh->livelossplot) (2.11.2)\n",
      "Requirement already satisfied: tornado>=5.1 in /opt/conda/lib/python3.8/site-packages (from bokeh->livelossplot) (6.1)\n",
      "Requirement already satisfied: typing-extensions>=3.7.4 in /opt/conda/lib/python3.8/site-packages (from bokeh->livelossplot) (3.7.4.3)\n",
      "Requirement already satisfied: packaging>=16.8 in /opt/conda/lib/python3.8/site-packages (from bokeh->livelossplot) (20.8)\n",
      "Requirement already satisfied: numpy>=1.11.3 in /opt/conda/lib/python3.8/site-packages (from bokeh->livelossplot) (1.19.5)\n",
      "Requirement already satisfied: python-dateutil>=2.1 in /opt/conda/lib/python3.8/site-packages (from bokeh->livelossplot) (2.8.1)\n",
      "Requirement already satisfied: MarkupSafe>=0.23 in /opt/conda/lib/python3.8/site-packages (from Jinja2>=2.7->bokeh->livelossplot) (1.1.1)\n",
      "Requirement already satisfied: pyparsing>=2.0.2 in /opt/conda/lib/python3.8/site-packages (from packaging>=16.8->bokeh->livelossplot) (2.4.7)\n",
      "Requirement already satisfied: six>=1.5 in /opt/conda/lib/python3.8/site-packages (from python-dateutil>=2.1->bokeh->livelossplot) (1.15.0)\n",
      "Requirement already satisfied: setuptools>=18.5 in /opt/conda/lib/python3.8/site-packages (from ipython->livelossplot) (49.6.0.post20210108)\n",
      "Requirement already satisfied: prompt-toolkit!=3.0.0,!=3.0.1,<3.1.0,>=2.0.0 in /opt/conda/lib/python3.8/site-packages (from ipython->livelossplot) (3.0.14)\n",
      "Requirement already satisfied: pickleshare in /opt/conda/lib/python3.8/site-packages (from ipython->livelossplot) (0.7.5)\n",
      "Requirement already satisfied: backcall in /opt/conda/lib/python3.8/site-packages (from ipython->livelossplot) (0.2.0)\n",
      "Requirement already satisfied: pexpect>4.3 in /opt/conda/lib/python3.8/site-packages (from ipython->livelossplot) (4.8.0)\n",
      "Requirement already satisfied: jedi>=0.10 in /opt/conda/lib/python3.8/site-packages (from ipython->livelossplot) (0.17.2)\n",
      "Requirement already satisfied: traitlets>=4.2 in /opt/conda/lib/python3.8/site-packages (from ipython->livelossplot) (5.0.5)\n",
      "Requirement already satisfied: decorator in /opt/conda/lib/python3.8/site-packages (from ipython->livelossplot) (4.4.2)\n",
      "Requirement already satisfied: pygments in /opt/conda/lib/python3.8/site-packages (from ipython->livelossplot) (2.7.4)\n",
      "Requirement already satisfied: parso<0.8.0,>=0.7.0 in /opt/conda/lib/python3.8/site-packages (from jedi>=0.10->ipython->livelossplot) (0.7.1)\n",
      "Requirement already satisfied: ptyprocess>=0.5 in /opt/conda/lib/python3.8/site-packages (from pexpect>4.3->ipython->livelossplot) (0.7.0)\n",
      "Requirement already satisfied: wcwidth in /opt/conda/lib/python3.8/site-packages (from prompt-toolkit!=3.0.0,!=3.0.1,<3.1.0,>=2.0.0->ipython->livelossplot) (0.2.5)\n",
      "Requirement already satisfied: ipython-genutils in /opt/conda/lib/python3.8/site-packages (from traitlets>=4.2->ipython->livelossplot) (0.2.0)\n",
      "Requirement already satisfied: kiwisolver>=1.0.1 in /opt/conda/lib/python3.8/site-packages (from matplotlib->livelossplot) (1.3.1)\n",
      "Requirement already satisfied: cycler>=0.10 in /opt/conda/lib/python3.8/site-packages (from matplotlib->livelossplot) (0.10.0)\n"
     ]
    }
   ],
   "source": [
    "! pip install livelossplot"
   ]
  },
  {
   "cell_type": "code",
   "execution_count": null,
   "metadata": {
    "colab": {
     "base_uri": "https://localhost:8080/",
     "height": 1000
    },
    "executionInfo": {
     "elapsed": 16933,
     "status": "ok",
     "timestamp": 1626971579831,
     "user": {
      "displayName": "Amit Maindola",
      "photoUrl": "https://lh3.googleusercontent.com/a-/AOh14GhzpzMKHLFkNBrZ_a1LlLtWjJtcRcJCVdql9k0J8SA=s64",
      "userId": "08125967203482699969"
     },
     "user_tz": -330
    },
    "id": "7tjhsEO1uyE4",
    "outputId": "5f2ebc24-5a85-484e-beca-51d6e364d240"
   },
   "outputs": [],
   "source": [
    "! pip install modin[dask]"
   ]
  },
  {
   "cell_type": "code",
   "execution_count": 2,
   "metadata": {
    "executionInfo": {
     "elapsed": 926,
     "status": "ok",
     "timestamp": 1626971602868,
     "user": {
      "displayName": "Amit Maindola",
      "photoUrl": "https://lh3.googleusercontent.com/a-/AOh14GhzpzMKHLFkNBrZ_a1LlLtWjJtcRcJCVdql9k0J8SA=s64",
      "userId": "08125967203482699969"
     },
     "user_tz": -330
    },
    "id": "0nBBw-__MRky"
   },
   "outputs": [
    {
     "name": "stderr",
     "output_type": "stream",
     "text": [
      "UserWarning: The Dask Engine for Modin is experimental.\n"
     ]
    },
    {
     "name": "stdout",
     "output_type": "stream",
     "text": [
      "Adding project module /home/jovyan/work\n"
     ]
    }
   ],
   "source": [
    "import os\n",
    "import matplotlib.pyplot as plt\n",
    "import numpy as np\n",
    "# import pandas as pd\n",
    "import modin.pandas as pd\n",
    "import seaborn as sns\n",
    "import random\n",
    "import sys\n",
    "\n",
    "# PROJECT_PATH = '/content/' # for google colab\n",
    "PROJECT_PATH = '/home/jovyan/work' # for local run\n",
    "AVA_DIR = os.path.join(PROJECT_PATH,'DATA', 'AVA')\n",
    "AVA_DATASET_DIR = os.path.join(AVA_DIR, 'images')\n",
    "print(f'Adding project module {PROJECT_PATH}')\n",
    "sys.path.append(PROJECT_PATH)"
   ]
  },
  {
   "cell_type": "code",
   "execution_count": 3,
   "metadata": {
    "executionInfo": {
     "elapsed": 464,
     "status": "ok",
     "timestamp": 1626972875380,
     "user": {
      "displayName": "Amit Maindola",
      "photoUrl": "https://lh3.googleusercontent.com/a-/AOh14GhzpzMKHLFkNBrZ_a1LlLtWjJtcRcJCVdql9k0J8SA=s64",
      "userId": "08125967203482699969"
     },
     "user_tz": -330
    },
    "id": "FgF8TM12XiKb"
   },
   "outputs": [],
   "source": [
    "from nima.utils.ava_preprocess import get_ava_csv_df, get_tags_df, get_rating_columns\n",
    "from nima.model.model_builder import NIMA\n",
    "from nima.model.loss import earth_movers_distance"
   ]
  },
  {
   "cell_type": "code",
   "execution_count": 4,
   "metadata": {
    "executionInfo": {
     "elapsed": 467,
     "status": "ok",
     "timestamp": 1626972318954,
     "user": {
      "displayName": "Amit Maindola",
      "photoUrl": "https://lh3.googleusercontent.com/a-/AOh14GhzpzMKHLFkNBrZ_a1LlLtWjJtcRcJCVdql9k0J8SA=s64",
      "userId": "08125967203482699969"
     },
     "user_tz": -330
    },
    "id": "htEV1QewLAFX"
   },
   "outputs": [
    {
     "name": "stderr",
     "output_type": "stream",
     "text": [
      "UserWarning: sort_values defaulting to pandas implementation.\n",
      "To request implementation, send an email to feature_requests@modin.org.\n"
     ]
    }
   ],
   "source": [
    "ava_csv_df = get_ava_csv_df()\n",
    "tags_df = get_tags_df()\n",
    "ratings_column = get_rating_columns()"
   ]
  },
  {
   "cell_type": "code",
   "execution_count": 21,
   "metadata": {
    "colab": {
     "base_uri": "https://localhost:8080/"
    },
    "executionInfo": {
     "elapsed": 34844,
     "status": "ok",
     "timestamp": 1626972830786,
     "user": {
      "displayName": "Amit Maindola",
      "photoUrl": "https://lh3.googleusercontent.com/a-/AOh14GhzpzMKHLFkNBrZ_a1LlLtWjJtcRcJCVdql9k0J8SA=s64",
      "userId": "08125967203482699969"
     },
     "user_tz": -330
    },
    "id": "fLx_JwVHLAFi",
    "outputId": "a755e272-bf4d-4fbf-9867-ef7f54cf8c5c"
   },
   "outputs": [
    {
     "name": "stderr",
     "output_type": "stream",
     "text": [
      "UserWarning: User-defined function verification is still under development in Modin. The function provided is not verified.\n"
     ]
    },
    {
     "data": {
      "text/html": [
       "<div>\n",
       "<style scoped>\n",
       "    .dataframe tbody tr th:only-of-type {\n",
       "        vertical-align: middle;\n",
       "    }\n",
       "\n",
       "    .dataframe tbody tr th {\n",
       "        vertical-align: top;\n",
       "    }\n",
       "\n",
       "    .dataframe thead th {\n",
       "        text-align: right;\n",
       "    }\n",
       "</style>\n",
       "<table border=\"1\" class=\"dataframe\">\n",
       "  <thead>\n",
       "    <tr style=\"text-align: right;\">\n",
       "      <th></th>\n",
       "      <th>image_id</th>\n",
       "    </tr>\n",
       "  </thead>\n",
       "  <tbody>\n",
       "    <tr>\n",
       "      <th>count</th>\n",
       "      <td>15084.000000</td>\n",
       "    </tr>\n",
       "    <tr>\n",
       "      <th>mean</th>\n",
       "      <td>108618.653076</td>\n",
       "    </tr>\n",
       "    <tr>\n",
       "      <th>std</th>\n",
       "      <td>103054.764075</td>\n",
       "    </tr>\n",
       "    <tr>\n",
       "      <th>min</th>\n",
       "      <td>101.000000</td>\n",
       "    </tr>\n",
       "    <tr>\n",
       "      <th>25%</th>\n",
       "      <td>102985.750000</td>\n",
       "    </tr>\n",
       "    <tr>\n",
       "      <th>50%</th>\n",
       "      <td>117016.500000</td>\n",
       "    </tr>\n",
       "    <tr>\n",
       "      <th>75%</th>\n",
       "      <td>129112.250000</td>\n",
       "    </tr>\n",
       "    <tr>\n",
       "      <th>max</th>\n",
       "      <td>954229.000000</td>\n",
       "    </tr>\n",
       "  </tbody>\n",
       "</table>\n",
       "</div>"
      ],
      "text/plain": [
       "            image_id\n",
       "count   15084.000000\n",
       "mean   108618.653076\n",
       "std    103054.764075\n",
       "min       101.000000\n",
       "25%    102985.750000\n",
       "50%    117016.500000\n",
       "75%    129112.250000\n",
       "max    954229.000000"
      ]
     },
     "execution_count": 21,
     "metadata": {},
     "output_type": "execute_result"
    }
   ],
   "source": [
    "df = ava_csv_df[['image_id']]\n",
    "df['ratings'] = ava_csv_df[ratings_column].apply(lambda x : x.values.tolist(), axis=1)\n",
    "df.head()"
   ]
  },
  {
   "cell_type": "code",
   "execution_count": 30,
   "metadata": {},
   "outputs": [
    {
     "name": "stderr",
     "output_type": "stream",
     "text": [
      "UserWarning: `Series.__array_wrap__` defaulting to pandas implementation.\n",
      "UserWarning: Distributing <class 'pandas.core.series.Series'> object. This may take some time.\n"
     ]
    },
    {
     "data": {
      "text/html": [
       "<div>\n",
       "<style scoped>\n",
       "    .dataframe tbody tr th:only-of-type {\n",
       "        vertical-align: middle;\n",
       "    }\n",
       "\n",
       "    .dataframe tbody tr th {\n",
       "        vertical-align: top;\n",
       "    }\n",
       "\n",
       "    .dataframe thead th {\n",
       "        text-align: right;\n",
       "    }\n",
       "</style>\n",
       "<table border=\"1\" class=\"dataframe\">\n",
       "  <thead>\n",
       "    <tr style=\"text-align: right;\">\n",
       "      <th></th>\n",
       "      <th>image_id</th>\n",
       "      <th>ratings</th>\n",
       "    </tr>\n",
       "    <tr>\n",
       "      <th>batch_id</th>\n",
       "      <th></th>\n",
       "      <th></th>\n",
       "    </tr>\n",
       "  </thead>\n",
       "  <tbody>\n",
       "    <tr>\n",
       "      <th>1</th>\n",
       "      <td>246</td>\n",
       "      <td>246</td>\n",
       "    </tr>\n",
       "    <tr>\n",
       "      <th>2</th>\n",
       "      <td>2910</td>\n",
       "      <td>2910</td>\n",
       "    </tr>\n",
       "    <tr>\n",
       "      <th>11</th>\n",
       "      <td>2541</td>\n",
       "      <td>2541</td>\n",
       "    </tr>\n",
       "    <tr>\n",
       "      <th>12</th>\n",
       "      <td>2813</td>\n",
       "      <td>2813</td>\n",
       "    </tr>\n",
       "    <tr>\n",
       "      <th>13</th>\n",
       "      <td>3071</td>\n",
       "      <td>3071</td>\n",
       "    </tr>\n",
       "    <tr>\n",
       "      <th>14</th>\n",
       "      <td>2757</td>\n",
       "      <td>2757</td>\n",
       "    </tr>\n",
       "    <tr>\n",
       "      <th>15</th>\n",
       "      <td>546</td>\n",
       "      <td>546</td>\n",
       "    </tr>\n",
       "    <tr>\n",
       "      <th>78</th>\n",
       "      <td>59</td>\n",
       "      <td>59</td>\n",
       "    </tr>\n",
       "    <tr>\n",
       "      <th>96</th>\n",
       "      <td>141</td>\n",
       "      <td>141</td>\n",
       "    </tr>\n",
       "  </tbody>\n",
       "</table>\n",
       "</div>"
      ],
      "text/plain": [
       "          image_id  ratings\n",
       "batch_id                   \n",
       "1              246      246\n",
       "2             2910     2910\n",
       "11            2541     2541\n",
       "12            2813     2813\n",
       "13            3071     3071\n",
       "14            2757     2757\n",
       "15             546      546\n",
       "78              59       59\n",
       "96             141      141"
      ]
     },
     "execution_count": 30,
     "metadata": {},
     "output_type": "execute_result"
    }
   ],
   "source": [
    "df['batch_id']  = np.ceil(df['image_id']/10000)\n",
    "df['batch_id'] = df['batch_id'].astype(int)\n",
    "df.groupby(['batch_id']).count()"
   ]
  },
  {
   "cell_type": "code",
   "execution_count": 37,
   "metadata": {},
   "outputs": [
    {
     "data": {
      "text/plain": [
       "601      102266\n",
       "602      103678\n",
       "603      103758\n",
       "604      103538\n",
       "605      103908\n",
       "          ...  \n",
       "14149    109748\n",
       "14150    109547\n",
       "14151    108583\n",
       "14152    109552\n",
       "14153    109760\n",
       "Name: image_id, Length: 2541, dtype: int64"
      ]
     },
     "execution_count": 37,
     "metadata": {},
     "output_type": "execute_result"
    }
   ],
   "source": [
    "df[df['batch_id'] == 11]['image_id']"
   ]
  },
  {
   "cell_type": "code",
   "execution_count": 11,
   "metadata": {
    "executionInfo": {
     "elapsed": 571,
     "status": "ok",
     "timestamp": 1626975336519,
     "user": {
      "displayName": "Amit Maindola",
      "photoUrl": "https://lh3.googleusercontent.com/a-/AOh14GhzpzMKHLFkNBrZ_a1LlLtWjJtcRcJCVdql9k0J8SA=s64",
      "userId": "08125967203482699969"
     },
     "user_tz": -330
    },
    "id": "TffnrReLIrHX"
   },
   "outputs": [],
   "source": [
    "from sklearn.model_selection import train_test_split\n",
    "train_df, test_df = train_test_split(df, test_size=0.2, shuffle=True)\n",
    "train_df, valid_df = train_test_split(train_df, test_size=0.1)\n",
    "\n",
    "weight_filepath = 'vgg19_weights_best.hdf5'"
   ]
  },
  {
   "cell_type": "code",
   "execution_count": 13,
   "metadata": {
    "executionInfo": {
     "elapsed": 669,
     "status": "ok",
     "timestamp": 1626978566023,
     "user": {
      "displayName": "Amit Maindola",
      "photoUrl": "https://lh3.googleusercontent.com/a-/AOh14GhzpzMKHLFkNBrZ_a1LlLtWjJtcRcJCVdql9k0J8SA=s64",
      "userId": "08125967203482699969"
     },
     "user_tz": -330
    },
    "id": "yTRZX8aDJPSg"
   },
   "outputs": [],
   "source": [
    "import tensorflow.keras as keras\n",
    "from keras.preprocessing.image import ImageDataGenerator\n",
    "from keras.layers import Dropout, Dense, MaxPool2D, Conv2D, Flatten\n",
    "from keras.models import Model, Sequential\n",
    "from keras.callbacks import EarlyStopping, ModelCheckpoint, ReduceLROnPlateau\n",
    "from livelossplot.inputs.keras import PlotLossesCallback\n",
    "from keras.optimizers import Adam\n",
    "\n",
    "from keras.applications.vgg19 import VGG19, preprocess_input, decode_predictions"
   ]
  },
  {
   "cell_type": "code",
   "execution_count": 14,
   "metadata": {
    "colab": {
     "base_uri": "https://localhost:8080/"
    },
    "executionInfo": {
     "elapsed": 1031,
     "status": "ok",
     "timestamp": 1626974927309,
     "user": {
      "displayName": "Amit Maindola",
      "photoUrl": "https://lh3.googleusercontent.com/a-/AOh14GhzpzMKHLFkNBrZ_a1LlLtWjJtcRcJCVdql9k0J8SA=s64",
      "userId": "08125967203482699969"
     },
     "user_tz": -330
    },
    "id": "JJ3GMn6MK5Vs",
    "outputId": "f4e86b0e-c25b-429e-ac27-2d4c2ef7c32c"
   },
   "outputs": [
    {
     "name": "stdout",
     "output_type": "stream",
     "text": [
      "Downloading data from https://storage.googleapis.com/tensorflow/keras-applications/vgg19/vgg19_weights_tf_dim_ordering_tf_kernels_notop.h5\n",
      "80142336/80134624 [==============================] - 65s 1us/step\n",
      "Model: \"model\"\n",
      "_________________________________________________________________\n",
      "Layer (type)                 Output Shape              Param #   \n",
      "=================================================================\n",
      "input_1 (InputLayer)         [(None, 256, 256, 3)]     0         \n",
      "_________________________________________________________________\n",
      "block1_conv1 (Conv2D)        (None, 256, 256, 64)      1792      \n",
      "_________________________________________________________________\n",
      "block1_conv2 (Conv2D)        (None, 256, 256, 64)      36928     \n",
      "_________________________________________________________________\n",
      "block1_pool (MaxPooling2D)   (None, 128, 128, 64)      0         \n",
      "_________________________________________________________________\n",
      "block2_conv1 (Conv2D)        (None, 128, 128, 128)     73856     \n",
      "_________________________________________________________________\n",
      "block2_conv2 (Conv2D)        (None, 128, 128, 128)     147584    \n",
      "_________________________________________________________________\n",
      "block2_pool (MaxPooling2D)   (None, 64, 64, 128)       0         \n",
      "_________________________________________________________________\n",
      "block3_conv1 (Conv2D)        (None, 64, 64, 256)       295168    \n",
      "_________________________________________________________________\n",
      "block3_conv2 (Conv2D)        (None, 64, 64, 256)       590080    \n",
      "_________________________________________________________________\n",
      "block3_conv3 (Conv2D)        (None, 64, 64, 256)       590080    \n",
      "_________________________________________________________________\n",
      "block3_conv4 (Conv2D)        (None, 64, 64, 256)       590080    \n",
      "_________________________________________________________________\n",
      "block3_pool (MaxPooling2D)   (None, 32, 32, 256)       0         \n",
      "_________________________________________________________________\n",
      "block4_conv1 (Conv2D)        (None, 32, 32, 512)       1180160   \n",
      "_________________________________________________________________\n",
      "block4_conv2 (Conv2D)        (None, 32, 32, 512)       2359808   \n",
      "_________________________________________________________________\n",
      "block4_conv3 (Conv2D)        (None, 32, 32, 512)       2359808   \n",
      "_________________________________________________________________\n",
      "block4_conv4 (Conv2D)        (None, 32, 32, 512)       2359808   \n",
      "_________________________________________________________________\n",
      "block4_pool (MaxPooling2D)   (None, 16, 16, 512)       0         \n",
      "_________________________________________________________________\n",
      "block5_conv1 (Conv2D)        (None, 16, 16, 512)       2359808   \n",
      "_________________________________________________________________\n",
      "block5_conv2 (Conv2D)        (None, 16, 16, 512)       2359808   \n",
      "_________________________________________________________________\n",
      "block5_conv3 (Conv2D)        (None, 16, 16, 512)       2359808   \n",
      "_________________________________________________________________\n",
      "block5_conv4 (Conv2D)        (None, 16, 16, 512)       2359808   \n",
      "_________________________________________________________________\n",
      "block5_pool (MaxPooling2D)   (None, 8, 8, 512)         0         \n",
      "_________________________________________________________________\n",
      "global_average_pooling2d (Gl (None, 512)               0         \n",
      "_________________________________________________________________\n",
      "flatten (Flatten)            (None, 512)               0         \n",
      "_________________________________________________________________\n",
      "dense (Dense)                (None, 256)               131328    \n",
      "_________________________________________________________________\n",
      "dropout (Dropout)            (None, 256)               0         \n",
      "_________________________________________________________________\n",
      "dense_1 (Dense)              (None, 256)               65792     \n",
      "_________________________________________________________________\n",
      "dense_2 (Dense)              (None, 10)                2570      \n",
      "=================================================================\n",
      "Total params: 20,224,074\n",
      "Trainable params: 199,690\n",
      "Non-trainable params: 20,024,384\n",
      "_________________________________________________________________\n"
     ]
    }
   ],
   "source": [
    "# create a vgg model \n",
    "vgg_model = VGG19(include_top=False, input_shape=(256,256,3), pooling='avg')\n",
    "# set all layers to false trainable\n",
    "for layer in vgg_model.layers:\n",
    "  layer.trainable=False\n",
    "\n",
    "\n",
    "x = Flatten()(vgg_model.output)\n",
    "x = Dense(256, activation='relu', kernel_initializer='he_uniform')(x)\n",
    "x = Dropout(0.2)(x)\n",
    "x = Dense(256, activation='relu')(x)\n",
    "x = Dense(10, activation='softmax')(x)\n",
    "\n",
    "model = Model(inputs=vgg_model.input, outputs=x)\n",
    "model.summary()\n",
    "\n",
    "vgg_model.compile(loss=earth_movers_distance, optimizer=Adam(), metrics=['accuracy'])"
   ]
  },
  {
   "cell_type": "code",
   "execution_count": 16,
   "metadata": {
    "colab": {
     "base_uri": "https://localhost:8080/",
     "height": 445
    },
    "executionInfo": {
     "elapsed": 683,
     "status": "error",
     "timestamp": 1626979791758,
     "user": {
      "displayName": "Amit Maindola",
      "photoUrl": "https://lh3.googleusercontent.com/a-/AOh14GhzpzMKHLFkNBrZ_a1LlLtWjJtcRcJCVdql9k0J8SA=s64",
      "userId": "08125967203482699969"
     },
     "user_tz": -330
    },
    "id": "52Mx7OlUMv2A",
    "outputId": "c0d70c9a-5f4c-4632-93af-ceac57bbd441"
   },
   "outputs": [
    {
     "ename": "TypeError",
     "evalue": "All values in column x_col=image_id must be strings.",
     "output_type": "error",
     "traceback": [
      "\u001b[0;31m---------------------------------------------------------------------------\u001b[0m",
      "\u001b[0;31mTypeError\u001b[0m                                 Traceback (most recent call last)",
      "\u001b[0;32m<ipython-input-16-80bae5d23e66>\u001b[0m in \u001b[0;36m<module>\u001b[0;34m\u001b[0m\n\u001b[1;32m     19\u001b[0m \u001b[0mvalid_datagen\u001b[0m \u001b[0;34m=\u001b[0m \u001b[0mImageDataGenerator\u001b[0m\u001b[0;34m(\u001b[0m\u001b[0mhorizontal_flip\u001b[0m\u001b[0;34m=\u001b[0m\u001b[0;32mTrue\u001b[0m\u001b[0;34m)\u001b[0m\u001b[0;34m\u001b[0m\u001b[0;34m\u001b[0m\u001b[0m\n\u001b[1;32m     20\u001b[0m \u001b[0;34m\u001b[0m\u001b[0m\n\u001b[0;32m---> 21\u001b[0;31m train_generator = train_datagen.flow_from_dataframe(\n\u001b[0m\u001b[1;32m     22\u001b[0m     \u001b[0mtrain_df\u001b[0m\u001b[0;34m,\u001b[0m\u001b[0;34m\u001b[0m\u001b[0;34m\u001b[0m\u001b[0m\n\u001b[1;32m     23\u001b[0m     \u001b[0mdirectory\u001b[0m\u001b[0;34m=\u001b[0m\u001b[0mAVA_DATASET_DIR\u001b[0m\u001b[0;34m,\u001b[0m\u001b[0;34m\u001b[0m\u001b[0;34m\u001b[0m\u001b[0m\n",
      "\u001b[0;32m/opt/conda/lib/python3.8/site-packages/tensorflow/python/keras/preprocessing/image.py\u001b[0m in \u001b[0;36mflow_from_dataframe\u001b[0;34m(self, dataframe, directory, x_col, y_col, weight_col, target_size, color_mode, classes, class_mode, batch_size, shuffle, seed, save_to_dir, save_prefix, save_format, subset, interpolation, validate_filenames, **kwargs)\u001b[0m\n\u001b[1;32m   1078\u001b[0m           DeprecationWarning)\n\u001b[1;32m   1079\u001b[0m \u001b[0;34m\u001b[0m\u001b[0m\n\u001b[0;32m-> 1080\u001b[0;31m     return DataFrameIterator(\n\u001b[0m\u001b[1;32m   1081\u001b[0m         \u001b[0mdataframe\u001b[0m\u001b[0;34m,\u001b[0m\u001b[0;34m\u001b[0m\u001b[0;34m\u001b[0m\u001b[0m\n\u001b[1;32m   1082\u001b[0m         \u001b[0mdirectory\u001b[0m\u001b[0;34m,\u001b[0m\u001b[0;34m\u001b[0m\u001b[0;34m\u001b[0m\u001b[0m\n",
      "\u001b[0;32m/opt/conda/lib/python3.8/site-packages/tensorflow/python/keras/preprocessing/image.py\u001b[0m in \u001b[0;36m__init__\u001b[0;34m(self, dataframe, directory, image_data_generator, x_col, y_col, weight_col, target_size, color_mode, classes, class_mode, batch_size, shuffle, seed, data_format, save_to_dir, save_prefix, save_format, subset, interpolation, dtype, validate_filenames)\u001b[0m\n\u001b[1;32m    553\u001b[0m       \u001b[0mdtype\u001b[0m\u001b[0;34m=\u001b[0m\u001b[0;34m'float32'\u001b[0m\u001b[0;34m,\u001b[0m\u001b[0;34m\u001b[0m\u001b[0;34m\u001b[0m\u001b[0m\n\u001b[1;32m    554\u001b[0m       validate_filenames=True):\n\u001b[0;32m--> 555\u001b[0;31m     super(DataFrameIterator, self).__init__(\n\u001b[0m\u001b[1;32m    556\u001b[0m         \u001b[0mdataframe\u001b[0m\u001b[0;34m=\u001b[0m\u001b[0mdataframe\u001b[0m\u001b[0;34m,\u001b[0m\u001b[0;34m\u001b[0m\u001b[0;34m\u001b[0m\u001b[0m\n\u001b[1;32m    557\u001b[0m         \u001b[0mdirectory\u001b[0m\u001b[0;34m=\u001b[0m\u001b[0mdirectory\u001b[0m\u001b[0;34m,\u001b[0m\u001b[0;34m\u001b[0m\u001b[0;34m\u001b[0m\u001b[0m\n",
      "\u001b[0;32m/opt/conda/lib/python3.8/site-packages/keras_preprocessing/image/dataframe_iterator.py\u001b[0m in \u001b[0;36m__init__\u001b[0;34m(self, dataframe, directory, image_data_generator, x_col, y_col, weight_col, target_size, color_mode, classes, class_mode, batch_size, shuffle, seed, data_format, save_to_dir, save_prefix, save_format, subset, interpolation, dtype, validate_filenames)\u001b[0m\n\u001b[1;32m    136\u001b[0m         \u001b[0mself\u001b[0m\u001b[0;34m.\u001b[0m\u001b[0mdtype\u001b[0m \u001b[0;34m=\u001b[0m \u001b[0mdtype\u001b[0m\u001b[0;34m\u001b[0m\u001b[0;34m\u001b[0m\u001b[0m\n\u001b[1;32m    137\u001b[0m         \u001b[0;31m# check that inputs match the required class_mode\u001b[0m\u001b[0;34m\u001b[0m\u001b[0;34m\u001b[0m\u001b[0;34m\u001b[0m\u001b[0m\n\u001b[0;32m--> 138\u001b[0;31m         \u001b[0mself\u001b[0m\u001b[0;34m.\u001b[0m\u001b[0m_check_params\u001b[0m\u001b[0;34m(\u001b[0m\u001b[0mdf\u001b[0m\u001b[0;34m,\u001b[0m \u001b[0mx_col\u001b[0m\u001b[0;34m,\u001b[0m \u001b[0my_col\u001b[0m\u001b[0;34m,\u001b[0m \u001b[0mweight_col\u001b[0m\u001b[0;34m,\u001b[0m \u001b[0mclasses\u001b[0m\u001b[0;34m)\u001b[0m\u001b[0;34m\u001b[0m\u001b[0;34m\u001b[0m\u001b[0m\n\u001b[0m\u001b[1;32m    139\u001b[0m         \u001b[0;32mif\u001b[0m \u001b[0mvalidate_filenames\u001b[0m\u001b[0;34m:\u001b[0m  \u001b[0;31m# check which image files are valid and keep them\u001b[0m\u001b[0;34m\u001b[0m\u001b[0;34m\u001b[0m\u001b[0m\n\u001b[1;32m    140\u001b[0m             \u001b[0mdf\u001b[0m \u001b[0;34m=\u001b[0m \u001b[0mself\u001b[0m\u001b[0;34m.\u001b[0m\u001b[0m_filter_valid_filepaths\u001b[0m\u001b[0;34m(\u001b[0m\u001b[0mdf\u001b[0m\u001b[0;34m,\u001b[0m \u001b[0mx_col\u001b[0m\u001b[0;34m)\u001b[0m\u001b[0;34m\u001b[0m\u001b[0;34m\u001b[0m\u001b[0m\n",
      "\u001b[0;32m/opt/conda/lib/python3.8/site-packages/keras_preprocessing/image/dataframe_iterator.py\u001b[0m in \u001b[0;36m_check_params\u001b[0;34m(self, df, x_col, y_col, weight_col, classes)\u001b[0m\n\u001b[1;32m    189\u001b[0m         \u001b[0;31m# check that filenames/filepaths column values are all strings\u001b[0m\u001b[0;34m\u001b[0m\u001b[0;34m\u001b[0m\u001b[0;34m\u001b[0m\u001b[0m\n\u001b[1;32m    190\u001b[0m         \u001b[0;32mif\u001b[0m \u001b[0;32mnot\u001b[0m \u001b[0mall\u001b[0m\u001b[0;34m(\u001b[0m\u001b[0mdf\u001b[0m\u001b[0;34m[\u001b[0m\u001b[0mx_col\u001b[0m\u001b[0;34m]\u001b[0m\u001b[0;34m.\u001b[0m\u001b[0mapply\u001b[0m\u001b[0;34m(\u001b[0m\u001b[0;32mlambda\u001b[0m \u001b[0mx\u001b[0m\u001b[0;34m:\u001b[0m \u001b[0misinstance\u001b[0m\u001b[0;34m(\u001b[0m\u001b[0mx\u001b[0m\u001b[0;34m,\u001b[0m \u001b[0mstr\u001b[0m\u001b[0;34m)\u001b[0m\u001b[0;34m)\u001b[0m\u001b[0;34m)\u001b[0m\u001b[0;34m:\u001b[0m\u001b[0;34m\u001b[0m\u001b[0;34m\u001b[0m\u001b[0m\n\u001b[0;32m--> 191\u001b[0;31m             raise TypeError('All values in column x_col={} must be strings.'\n\u001b[0m\u001b[1;32m    192\u001b[0m                             .format(x_col))\n\u001b[1;32m    193\u001b[0m         \u001b[0;31m# check labels are string if class_mode is binary or sparse\u001b[0m\u001b[0;34m\u001b[0m\u001b[0;34m\u001b[0m\u001b[0;34m\u001b[0m\u001b[0m\n",
      "\u001b[0;31mTypeError\u001b[0m: All values in column x_col=image_id must be strings."
     ]
    }
   ],
   "source": [
    "# define callbacks\n",
    "earlystopping = EarlyStopping(monitor=\"val_loss\", patience=5)\n",
    "\n",
    "weight_filepath = 'vgg_model_weights_best_unfreezelast4.hdf5'\n",
    "checkpoint= ModelCheckpoint(\n",
    "    filepath=weight_filepath,\n",
    "    save_weights_only=True,\n",
    "    monitor=\"val_loss\",\n",
    "    mode=\"max\",\n",
    "    save_best_only=True,\n",
    ")\n",
    "\n",
    "reduce_lr = ReduceLROnPlateau(monitor='val_loss', factor=0.2,\n",
    "                              patience=5, min_lr=0.001)\n",
    "\n",
    "plot_loss = PlotLossesCallback()\n",
    "\n",
    "train_datagen = ImageDataGenerator(horizontal_flip=True)\n",
    "valid_datagen = ImageDataGenerator(horizontal_flip=True)\n",
    "\n",
    "train_generator = train_datagen.flow_from_dataframe(\n",
    "    train_df,\n",
    "    directory=AVA_DATASET_DIR,\n",
    "    x_col=\"image_id\", \n",
    "    y_col=\"ratings\",\n",
    "    batch_size=64,\n",
    "    class_mode=\"categorical\", \n",
    "    target_size=(256, 256), \n",
    "    preprocessing_function=preprocess_input\n",
    "    )\n",
    "\n",
    "valid_generator = train_datagen.flow_from_dataframe(\n",
    "    valid_df, directory=AVA_DATASET_DIR,\n",
    "    x_col=\"image_id\", y_col=\"ratings\",batch_size=64,\n",
    "    class_mode=\"categorical\", target_size=(256, 256), \n",
    "    preprocessing_function=preprocess_input\n",
    "    )\n",
    "\n",
    "# valid_generator = valid_datagen.flow_from_dataframe(\n",
    "#     valid_df,\n",
    "#     directory=AVA_DATASET_DIR,\n",
    "#     x_col=\"image_id\",\n",
    "#     y_col=\"ratings\",\n",
    "#     batch_size=64,\n",
    "#     class_mode=\"binary\",\n",
    "#     target_size=(256, 256),\n",
    "#     preprocessing_function=preprocess_input\n",
    "#     )\n"
   ]
  },
  {
   "cell_type": "code",
   "execution_count": null,
   "metadata": {
    "id": "S79f0QBiR6Ez"
   },
   "outputs": [],
   "source": [
    "model.fit()"
   ]
  }
 ],
 "metadata": {
  "accelerator": "GPU",
  "colab": {
   "collapsed_sections": [],
   "name": "ava_preprocessing.ipynb",
   "provenance": []
  },
  "kernelspec": {
   "display_name": "Python 3",
   "language": "python",
   "name": "python3"
  },
  "language_info": {
   "codemirror_mode": {
    "name": "ipython",
    "version": 3
   },
   "file_extension": ".py",
   "mimetype": "text/x-python",
   "name": "python",
   "nbconvert_exporter": "python",
   "pygments_lexer": "ipython3",
   "version": "3.8.6"
  }
 },
 "nbformat": 4,
 "nbformat_minor": 4
}
