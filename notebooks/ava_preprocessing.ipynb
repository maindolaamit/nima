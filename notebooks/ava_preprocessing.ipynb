{
 "nbformat": 4,
 "nbformat_minor": 0,
 "metadata": {
  "colab": {
   "name": "ava_preprocessing.ipynb",
   "provenance": [],
   "collapsed_sections": [],
   "mount_file_id": "1cGn3jT_972em4Azoco4HM4noXkeR9vck",
   "authorship_tag": "ABX9TyOSvu6pm8WDxglrsZ9AWVEa"
  },
  "kernelspec": {
   "name": "python3",
   "display_name": "Python 3"
  },
  "language_info": {
   "name": "python"
  }
 },
 "cells": [
  {
   "cell_type": "markdown",
   "metadata": {
    "id": "fiuW2BohLEEA"
   },
   "source": [
    "## Mount the google drive and then change the current directory"
   ]
  },
  {
   "cell_type": "code",
   "metadata": {
    "colab": {
     "base_uri": "https://localhost:8080/"
    },
    "id": "df1B8iimTwgC",
    "executionInfo": {
     "status": "ok",
     "timestamp": 1625818077237,
     "user_tz": -330,
     "elapsed": 554,
     "user": {
      "displayName": "Amit Maindola",
      "photoUrl": "https://lh3.googleusercontent.com/a-/AOh14GhzpzMKHLFkNBrZ_a1LlLtWjJtcRcJCVdql9k0J8SA=s64",
      "userId": "08125967203482699969"
     }
    },
    "outputId": "d95fcd14-eb55-4ae1-f80c-ab77053366b1"
   },
   "source": [
    "!pwd"
   ],
   "execution_count": 28,
   "outputs": [
    {
     "output_type": "stream",
     "text": [
      "/content\n"
     ],
     "name": "stdout"
    }
   ]
  },
  {
   "cell_type": "code",
   "metadata": {
    "id": "0nBBw-__MRky",
    "executionInfo": {
     "status": "ok",
     "timestamp": 1625818110136,
     "user_tz": -330,
     "elapsed": 436,
     "user": {
      "displayName": "Amit Maindola",
      "photoUrl": "https://lh3.googleusercontent.com/a-/AOh14GhzpzMKHLFkNBrZ_a1LlLtWjJtcRcJCVdql9k0J8SA=s64",
      "userId": "08125967203482699969"
     }
    }
   },
   "source": [
    "import os\n",
    "PROJECT_PATH = '/content/drive/MyDrive/Colab Notebooks/img-quality-assesment'\n",
    "AVA_DIR = os.path.join(PROJECT_PATH,'DATA', 'AVA')\n",
    "AVA_DATASET_DIR = os.path.join(AVA_DIR, 'images')\n",
    "\n",
    "os.chdir(AVA_DATASET_DIR)\n"
   ],
   "execution_count": 29,
   "outputs": []
  },
  {
   "cell_type": "code",
   "metadata": {
    "colab": {
     "base_uri": "https://localhost:8080/",
     "height": 237
    },
    "id": "htEV1QewLAFX",
    "executionInfo": {
     "status": "error",
     "timestamp": 1625818111560,
     "user_tz": -330,
     "elapsed": 7,
     "user": {
      "displayName": "Amit Maindola",
      "photoUrl": "https://lh3.googleusercontent.com/a-/AOh14GhzpzMKHLFkNBrZ_a1LlLtWjJtcRcJCVdql9k0J8SA=s64",
      "userId": "08125967203482699969"
     }
    },
    "outputId": "0e12227e-72de-4457-e3fd-e8bbc4b113eb"
   },
   "source": [
    "import glob\n",
    "# image_files = glob.glob(os.path.join(AVA_DATASET_DIR, '*.jpg'))\n",
    "\n",
    "# len(image_files)"
   ],
   "execution_count": 30,
   "outputs": [
    {
     "output_type": "error",
     "ename": "FileNotFoundError",
     "evalue": "ignored",
     "traceback": [
      "\u001B[0;31m---------------------------------------------------------------------------\u001B[0m",
      "\u001B[0;31mFileNotFoundError\u001B[0m                         Traceback (most recent call last)",
      "\u001B[0;32m<ipython-input-30-6c759162fea1>\u001B[0m in \u001B[0;36m<module>\u001B[0;34m()\u001B[0m\n\u001B[1;32m      1\u001B[0m \u001B[0;32mimport\u001B[0m \u001B[0mglob\u001B[0m\u001B[0;34m\u001B[0m\u001B[0;34m\u001B[0m\u001B[0m\n\u001B[0;32m----> 2\u001B[0;31m \u001B[0mos\u001B[0m\u001B[0;34m.\u001B[0m\u001B[0mchdir\u001B[0m\u001B[0;34m(\u001B[0m\u001B[0mAVA_DATASET_DIR\u001B[0m\u001B[0;34m)\u001B[0m\u001B[0;34m\u001B[0m\u001B[0;34m\u001B[0m\u001B[0m\n\u001B[0m\u001B[1;32m      3\u001B[0m \u001B[0mimage_files\u001B[0m \u001B[0;34m=\u001B[0m \u001B[0mglob\u001B[0m\u001B[0;34m.\u001B[0m\u001B[0mglob\u001B[0m\u001B[0;34m(\u001B[0m\u001B[0mos\u001B[0m\u001B[0;34m.\u001B[0m\u001B[0mpath\u001B[0m\u001B[0;34m.\u001B[0m\u001B[0mjoin\u001B[0m\u001B[0;34m(\u001B[0m\u001B[0mAVA_DATASET_DIR\u001B[0m\u001B[0;34m,\u001B[0m \u001B[0;34m'*.jpg'\u001B[0m\u001B[0;34m)\u001B[0m\u001B[0;34m)\u001B[0m\u001B[0;34m\u001B[0m\u001B[0;34m\u001B[0m\u001B[0m\n\u001B[1;32m      4\u001B[0m \u001B[0;34m\u001B[0m\u001B[0m\n\u001B[1;32m      5\u001B[0m \u001B[0mlen\u001B[0m\u001B[0;34m(\u001B[0m\u001B[0mimage_files\u001B[0m\u001B[0;34m)\u001B[0m\u001B[0;34m\u001B[0m\u001B[0;34m\u001B[0m\u001B[0m\n",
      "\u001B[0;31mFileNotFoundError\u001B[0m: [Errno 2] No such file or directory: '/content/drive/MyDrive/DATA/AVA/images'"
     ]
    }
   ]
  },
  {
   "cell_type": "code",
   "metadata": {
    "colab": {
     "base_uri": "https://localhost:8080/",
     "height": 185
    },
    "id": "fLx_JwVHLAFi",
    "executionInfo": {
     "status": "error",
     "timestamp": 1625817847529,
     "user_tz": -330,
     "elapsed": 465,
     "user": {
      "displayName": "Amit Maindola",
      "photoUrl": "https://lh3.googleusercontent.com/a-/AOh14GhzpzMKHLFkNBrZ_a1LlLtWjJtcRcJCVdql9k0J8SA=s64",
      "userId": "08125967203482699969"
     }
    },
    "outputId": "13d3aa9b-069c-4135-c470-18993facfd8c"
   },
   "source": [
    "from"
   ],
   "execution_count": 24,
   "outputs": [
    {
     "output_type": "error",
     "ename": "ValueError",
     "evalue": "ignored",
     "traceback": [
      "\u001B[0;31m---------------------------------------------------------------------------\u001B[0m",
      "\u001B[0;31mValueError\u001B[0m                                Traceback (most recent call last)",
      "\u001B[0;32m<ipython-input-24-c3735617427e>\u001B[0m in \u001B[0;36m<module>\u001B[0;34m()\u001B[0m\n\u001B[0;32m----> 1\u001B[0;31m \u001B[0m_\u001B[0m\u001B[0;34m,\u001B[0m \u001B[0m_\u001B[0m\u001B[0;34m,\u001B[0m \u001B[0mfiles\u001B[0m \u001B[0;34m=\u001B[0m \u001B[0mos\u001B[0m\u001B[0;34m.\u001B[0m\u001B[0mwalk\u001B[0m\u001B[0;34m(\u001B[0m\u001B[0mAVA_DATASET_DIR\u001B[0m\u001B[0;34m)\u001B[0m\u001B[0;34m\u001B[0m\u001B[0;34m\u001B[0m\u001B[0m\n\u001B[0m\u001B[1;32m      2\u001B[0m \u001B[0mlen\u001B[0m\u001B[0;34m(\u001B[0m\u001B[0mfiles\u001B[0m\u001B[0;34m)\u001B[0m\u001B[0;34m\u001B[0m\u001B[0;34m\u001B[0m\u001B[0m\n",
      "\u001B[0;31mValueError\u001B[0m: not enough values to unpack (expected 3, got 0)"
     ]
    }
   ]
  }
 ]
}