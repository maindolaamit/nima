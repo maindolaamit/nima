{
  "nbformat": 4,
  "nbformat_minor": 2,
  "metadata": {
    "colab": {
      "name": "Dataset_Upload.ipynb",
      "provenance": []
    },
    "kernelspec": {
      "name": "python3",
      "display_name": "Python 3"
    },
    "language_info": {
      "name": "python"
    }
  },
  "cells": [
    {
      "cell_type": "markdown",
      "source": [
        "### Install colabcode to edit the file locally in VSCode"
      ],
      "metadata": {
        "id": "hIX7zf7nFlrm"
      }
    },
    {
      "cell_type": "code",
      "execution_count": null,
      "source": [
        "! pip3 install -q colabcode\r\n",
        "# ! colabcode -h\r\n",
        "\r\n",
        "from colabcode import ColabCode\r\n",
        "ColabCode(port=1080, password='qwedsa', mount_drive=True)"
      ],
      "outputs": [],
      "metadata": {
        "id": "CAJuGeOjEN2D"
      }
    },
    {
      "cell_type": "code",
      "execution_count": 1,
      "source": [
        "from google.colab import drive\r\n",
        "drive.mount('/gdrive')"
      ],
      "outputs": [
        {
          "output_type": "stream",
          "name": "stdout",
          "text": [
            "Mounted at /gdrive\n"
          ]
        }
      ],
      "metadata": {
        "colab": {
          "base_uri": "https://localhost:8080/"
        },
        "id": "Cfy-rlie6ZG4",
        "outputId": "17871331-2a61-4356-a50b-0574309a58b0"
      }
    },
    {
      "cell_type": "code",
      "execution_count": 5,
      "source": [
        "# copy the data\r\n",
        "! cp -r /gdrive/MyDrive/nima-dataset /content/\r\n",
        "# copy csv file\r\n",
        "! cp /gdrive/MyDrive/img-quality-assesment/data/tid2013/mos.csv /content/nima-dataset/\r\n",
        "# rename the folder\r\n",
        "! mv /content/nima-dataset/ava/archive /content/nima-dataset/ava/images\r\n",
        "# copy nima code\r\n",
        "! cp -r /gdrive/MyDrive/img-quality-assesment/nima /content/\r\n",
        "\r\n",
        "# copy kaggle config and dataset metadata\r\n",
        "! cp -r /gdrive/MyDrive/img-quality-assesment/.kaggle ~\r\n",
        "! cp /gdrive/MyDrive/img-quality-assesment/data/dataset-metadata.json /content/"
      ],
      "outputs": [
        {
          "output_type": "stream",
          "name": "stdout",
          "text": [
            "mv: cannot stat '/content/nima-dataset/ava/archive': No such file or directory\n",
            "mv: cannot stat '/gdrive/MyDrive/img-quality-assesment/data/dataset-metadata.json': No such file or directory\n"
          ]
        }
      ],
      "metadata": {
        "id": "tjuvoVLL6ZG7",
        "colab": {
          "base_uri": "https://localhost:8080/"
        },
        "outputId": "59c6988b-92af-4d4a-87cb-01df6207437f"
      }
    },
    {
      "cell_type": "markdown",
      "source": [
        "### Unrar the TID2013 dataset"
      ],
      "metadata": {
        "id": "MFomO5tGXTkM"
      }
    },
    {
      "cell_type": "code",
      "execution_count": 19,
      "source": [
        "! mkdir /content/nima-dataset/tid2013\r\n",
        "! unrar x /content/nima-dataset/tid2013.rar /content/nima-dataset/tid2013\r\n",
        "! rm  /content/nima-dataset/tid2013.rar\r\n",
        "! mv /content/nima-dataset/mos.csv /content/nima-dataset/tid2013/"
      ],
      "outputs": [],
      "metadata": {
        "id": "v9J496tVXTD8"
      }
    },
    {
      "cell_type": "markdown",
      "source": [
        "#### move files in python"
      ],
      "metadata": {
        "id": "J8pms_e2ZOI3"
      }
    },
    {
      "cell_type": "code",
      "execution_count": 14,
      "source": [
        "import os \r\n",
        "from glob import glob\r\n",
        "from pathlib import Path\r\n",
        "files = glob('/content/nima-dataset/*.BMP')\r\n",
        "\r\n",
        "if not os.path.isdir('/content/nima-dataset/tid2013'):\r\n",
        "  os.mkdir('/content/nima-dataset/tid2013')\r\n",
        "\r\n",
        "# [os.path.basename(file) for file in files[:5]]\r\n",
        "\r\n",
        "for file in files:\r\n",
        "  Path(file).rename('/content/nima-dataset/tid2013/'+os.path.basename(file))"
      ],
      "outputs": [],
      "metadata": {
        "id": "AHo7v-A-V_Eo"
      }
    },
    {
      "cell_type": "markdown",
      "source": [
        "#### Unarchive the ava dataset"
      ],
      "metadata": {
        "id": "wth8mMiOXaBV"
      }
    },
    {
      "cell_type": "code",
      "execution_count": 24,
      "source": [
        "import os \r\n",
        "from glob import glob\r\n",
        "from pathlib import Path\r\n",
        "import zipfile\r\n",
        "import tqdm\r\n",
        "\r\n",
        "# get the available zip files\r\n",
        "zip_files = glob('/content/nima-dataset/ava/images/*.zip')\r\n",
        "zip_files[:5]\r\n",
        "\r\n",
        "# loop for each zip file and extract the images\r\n",
        "for zip_file in tqdm(zip_files):\r\n",
        "  with zipfile.ZipFile(zip_file, 'r') as zip_ref:\r\n",
        "    zip_ref.extractall('/content/nima-dataset/ava/images/')\r\n",
        "  # delete zip file\r\n",
        "  os.remove(zip_file)\r\n",
        "  print(f'Extracted and removed file : {zip_file}')"
      ],
      "outputs": [
        {
          "output_type": "execute_result",
          "data": {
            "text/plain": [
              "[]"
            ]
          },
          "metadata": {
            "tags": []
          },
          "execution_count": 24
        }
      ],
      "metadata": {
        "colab": {
          "base_uri": "https://localhost:8080/"
        },
        "id": "8VgrzHGtZSiO",
        "outputId": "5868c258-f263-42f1-c0bd-6f88ef1c13f4"
      }
    },
    {
      "cell_type": "markdown",
      "source": [
        "#### Perform kaggle operations"
      ],
      "metadata": {
        "id": "iTQOcZS-cVdb"
      }
    },
    {
      "cell_type": "code",
      "execution_count": 35,
      "source": [
        "# ! pip install -q kaggle\r\n",
        "# create a single zip file to upload to kaggle\r\n",
        "# ! zip -r /content/nima-dataset.zip /content/nima-dataset/*\r\n",
        "# ! rm -rf /content/nima-dataset/*\r\n",
        "# ! mv nima-dataset.zip nima-dataset/\r\n",
        "# ! mv dataset-metadata.json nima-dataset/\r\n",
        "! kaggle datasets version -p /content/nima-dataset -m \"Added 76% images\""
      ],
      "outputs": [
        {
          "output_type": "stream",
          "name": "stdout",
          "text": [
            "Starting upload for file nima-dataset.zip\n",
            "Warning: Looks like you're using an outdated API Version, please consider updating (server 1.5.12 / client 1.5.4)\n",
            "100% 22.6G/22.6G [07:35<00:00, 53.3MB/s]\n",
            "Upload successful: nima-dataset.zip (23GB)\n",
            "Skipping folder: .ipynb_checkpoints; use '--dir-mode' to upload folders\n",
            "Dataset version is being created. Please check progress at /api/v1/datasets/status/maindolaamit/nima-dataset\n"
          ]
        }
      ],
      "metadata": {
        "id": "yn8eEz8AXZuz",
        "colab": {
          "base_uri": "https://localhost:8080/"
        },
        "outputId": "8b3aae72-ac40-448e-f21c-3604255fa23b"
      }
    },
    {
      "cell_type": "code",
      "execution_count": 37,
      "source": [
        "! cp -r /content/nima-dataset/ /gdrive/MyDrive/nima-dataset-2"
      ],
      "outputs": [],
      "metadata": {
        "id": "ZVQ_JlbYRXU6"
      }
    }
  ]
}