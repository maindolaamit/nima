{
  "nbformat": 4,
  "nbformat_minor": 0,
  "metadata": {
    "colab": {
      "name": "Dataset_Upload.ipynb",
      "provenance": []
    },
    "kernelspec": {
      "name": "python3",
      "display_name": "Python 3"
    },
    "language_info": {
      "name": "python"
    }
  },
  "cells": [
    {
      "cell_type": "markdown",
      "metadata": {
        "id": "hIX7zf7nFlrm"
      },
      "source": [
        "### Install colabcode to edit the file locally in VSCode"
      ]
    },
    {
      "cell_type": "code",
      "metadata": {
        "colab": {
          "base_uri": "https://localhost:8080/"
        },
        "id": "Cfy-rlie6ZG4",
        "outputId": "6d4fbc22-d513-4a3f-f4b9-7795b89bc900"
      },
      "source": [
        "from google.colab import drive\n",
        "drive.mount('/gdrive')"
      ],
      "execution_count": 1,
      "outputs": [
        {
          "output_type": "stream",
          "text": [
            "Mounted at /gdrive\n"
          ],
          "name": "stdout"
        }
      ]
    },
    {
      "cell_type": "code",
      "metadata": {
        "id": "tjuvoVLL6ZG7"
      },
      "source": [
        "# copy the code\n",
        "! cp -r /gdrive/MyDrive/img-quality-assesment/nima/ /content/\n",
        "# copy kaggle config and dataset metadata\n",
        "! cp -r /gdrive/MyDrive/img-quality-assesment/.kaggle ~\n",
        "\n",
        "# # unzip the file\n",
        "! unzip -q /gdrive/MyDrive/nima-dataset/nima-dataset.zip -d /content/nima-dataset/\n",
        "\n",
        "! cp /gdrive/MyDrive/img-quality-assesment/data/dataset-metadata.json /content/\n"
      ],
      "execution_count": 2,
      "outputs": []
    },
    {
      "cell_type": "markdown",
      "metadata": {
        "id": "KGEcTGZ36K8o"
      },
      "source": [
        "### Clean the AVA dataset - remove corrup images"
      ]
    },
    {
      "cell_type": "code",
      "metadata": {
        "colab": {
          "base_uri": "https://localhost:8080/"
        },
        "id": "LDiil-G66Jje",
        "outputId": "e44f720c-b76a-403a-80bd-eba882d53874"
      },
      "source": [
        "import os\n",
        "import nima as nima\n",
        "from nima.utils.image_utils import clean_dataset\n",
        "from nima.utils.ava_dataset_utils import make_ava_csv, make_ava_csv_score\n",
        "\n",
        "p_dataset_dir = '/content/nima-dataset/ava'\n",
        "img_dir = os.path.join(p_dataset_dir, 'images')\n",
        "print(img_dir)\n",
        "clean_dataset(img_dir)\n",
        "make_ava_csv(p_dataset_dir)\n",
        "make_ava_csv_score(p_dataset_dir)"
      ],
      "execution_count": null,
      "outputs": [
        {
          "output_type": "stream",
          "text": [
            "/content/nima-dataset/ava/images\n"
          ],
          "name": "stdout"
        },
        {
          "output_type": "stream",
          "text": [
            "/usr/local/lib/python3.7/dist-packages/PIL/TiffImagePlugin.py:770: UserWarning: Possibly corrupt EXIF data.  Expecting to read 211288080 bytes but only got 0. Skipping tag 0\n",
            "  \" Skipping tag %s\" % (size, len(data), tag)\n",
            "/usr/local/lib/python3.7/dist-packages/PIL/TiffImagePlugin.py:770: UserWarning: Possibly corrupt EXIF data.  Expecting to read 131073 bytes but only got 10470. Skipping tag 582\n",
            "  \" Skipping tag %s\" % (size, len(data), tag)\n",
            "/usr/local/lib/python3.7/dist-packages/PIL/TiffImagePlugin.py:770: UserWarning: Possibly corrupt EXIF data.  Expecting to read 196867 bytes but only got 10474. Skipping tag 0\n",
            "  \" Skipping tag %s\" % (size, len(data), tag)\n",
            "/usr/local/lib/python3.7/dist-packages/PIL/TiffImagePlugin.py:788: UserWarning: Corrupt EXIF data.  Expecting to read 12 bytes but only got 5. \n",
            "  warnings.warn(str(msg))\n",
            "/usr/local/lib/python3.7/dist-packages/PIL/TiffImagePlugin.py:770: UserWarning: Possibly corrupt EXIF data.  Expecting to read 22046 bytes but only got 816. Skipping tag 700\n",
            "  \" Skipping tag %s\" % (size, len(data), tag)\n",
            "/usr/local/lib/python3.7/dist-packages/PIL/TiffImagePlugin.py:770: UserWarning: Possibly corrupt EXIF data.  Expecting to read 6690 bytes but only got 816. Skipping tag 34377\n",
            "  \" Skipping tag %s\" % (size, len(data), tag)\n"
          ],
          "name": "stderr"
        }
      ]
    },
    {
      "cell_type": "markdown",
      "metadata": {
        "id": "iTQOcZS-cVdb"
      },
      "source": [
        "#### Perform kaggle operations"
      ]
    },
    {
      "cell_type": "code",
      "metadata": {
        "id": "e2MKznXuMMZX"
      },
      "source": [
        ""
      ],
      "execution_count": null,
      "outputs": []
    },
    {
      "cell_type": "code",
      "metadata": {
        "id": "yn8eEz8AXZuz",
        "colab": {
          "base_uri": "https://localhost:8080/"
        },
        "outputId": "b199fb25-696c-4344-80ef-e712660daf61"
      },
      "source": [
        "# ! pip install -q kaggle\n",
        "\n",
        "os.chdir('/content/nima-dataset')\n",
        "os.getcwd()\n",
        "# # create a single zip file to upload to kaggle\n",
        "! zip -rq /content/nima-dataset.zip ./*\n",
        "\n",
        "# backup the dataset to drive\n",
        "os.chdir('/content')\n",
        "! cp /content/nima-dataset.zip /gdrive/MyDrive/nima-dataset/nima-dataset.zip\n",
        "\n",
        "# Delete the folder to save space\n",
        "# ! rm -rf /content/nima-dataset/\n",
        "\n",
        "# ! mkdir /content/nima-dataset\n",
        "# ! kaggle datasets version -p /content/nima-dataset \"removed corrupt images\"\n",
        "! kaggle datasets create -p /content/nima-dataset \n"
      ],
      "execution_count": null,
      "outputs": [
        {
          "output_type": "stream",
          "text": [
            "Starting upload for file nima-dataset.zip\n",
            "Warning: Looks like you're using an outdated API Version, please consider updating (server 1.5.12 / client 1.5.4)\n",
            "100% 22.6G/22.6G [07:22<00:00, 54.8MB/s]\n",
            "Upload successful: nima-dataset.zip (23GB)\n",
            "Your private Dataset is being created. Please check progress at /api/v1/datasets/status//maindolaamit/nima-dataset\n"
          ],
          "name": "stdout"
        }
      ]
    },
    {
      "cell_type": "code",
      "metadata": {
        "colab": {
          "base_uri": "https://localhost:8080/",
          "height": 225
        },
        "id": "olXAfjE-EnlV",
        "outputId": "2808baea-b3b1-419d-d453-fa1b1a730be4"
      },
      "source": [
        "import numpy as np\n",
        "from nima.utils.ava_dataset_utils import get_ava_csv_df, get_rating_columns\n",
        "from nima.utils.preprocess import get_std_score, get_mean_quality_score, normalize_ratings\n",
        "\n",
        "\n",
        "df = get_ava_csv_df(p_dataset_dir)\n",
        "ratings_column = get_rating_columns()\n",
        "df.insert(2, 'max_rating', df[ratings_column].apply(lambda row: np.argmax(row.to_numpy()) + 1, axis=1))\n",
        "df.insert(3, 'mean_score', df[ratings_column].apply(lambda row: get_mean_quality_score(normalize_ratings(row))\n",
        "                                                    , axis=1))\n",
        "df.insert(4, 'std_score', df[ratings_column].apply(lambda row: get_std_score(normalize_ratings(row)), axis=1))\n",
        "df.to_csv(os.path.join(p_dataset_dir, 'ava_with_scores.csv'), sep=',', header=True, index=False)\n",
        "df.head()"
      ],
      "execution_count": null,
      "outputs": [
        {
          "output_type": "execute_result",
          "data": {
            "text/html": [
              "<div>\n",
              "<style scoped>\n",
              "    .dataframe tbody tr th:only-of-type {\n",
              "        vertical-align: middle;\n",
              "    }\n",
              "\n",
              "    .dataframe tbody tr th {\n",
              "        vertical-align: top;\n",
              "    }\n",
              "\n",
              "    .dataframe thead th {\n",
              "        text-align: right;\n",
              "    }\n",
              "</style>\n",
              "<table border=\"1\" class=\"dataframe\">\n",
              "  <thead>\n",
              "    <tr style=\"text-align: right;\">\n",
              "      <th></th>\n",
              "      <th>index</th>\n",
              "      <th>image_id</th>\n",
              "      <th>max_rating</th>\n",
              "      <th>mean_score</th>\n",
              "      <th>std_score</th>\n",
              "      <th>count_rating_1</th>\n",
              "      <th>count_rating_2</th>\n",
              "      <th>count_rating_3</th>\n",
              "      <th>count_rating_4</th>\n",
              "      <th>count_rating_5</th>\n",
              "      <th>count_rating_6</th>\n",
              "      <th>count_rating_7</th>\n",
              "      <th>count_rating_8</th>\n",
              "      <th>count_rating_9</th>\n",
              "      <th>count_rating_10</th>\n",
              "      <th>tag_1</th>\n",
              "      <th>tag_2</th>\n",
              "      <th>challange_id</th>\n",
              "    </tr>\n",
              "  </thead>\n",
              "  <tbody>\n",
              "    <tr>\n",
              "      <th>0</th>\n",
              "      <td>1</td>\n",
              "      <td>953619</td>\n",
              "      <td>5</td>\n",
              "      <td>5.637</td>\n",
              "      <td>4.071</td>\n",
              "      <td>0</td>\n",
              "      <td>1</td>\n",
              "      <td>5</td>\n",
              "      <td>17</td>\n",
              "      <td>38</td>\n",
              "      <td>36</td>\n",
              "      <td>15</td>\n",
              "      <td>6</td>\n",
              "      <td>5</td>\n",
              "      <td>1</td>\n",
              "      <td>1</td>\n",
              "      <td>22</td>\n",
              "      <td>1396</td>\n",
              "    </tr>\n",
              "    <tr>\n",
              "      <th>1</th>\n",
              "      <td>2</td>\n",
              "      <td>953958</td>\n",
              "      <td>4</td>\n",
              "      <td>4.698</td>\n",
              "      <td>5.781</td>\n",
              "      <td>10</td>\n",
              "      <td>7</td>\n",
              "      <td>15</td>\n",
              "      <td>26</td>\n",
              "      <td>26</td>\n",
              "      <td>21</td>\n",
              "      <td>10</td>\n",
              "      <td>8</td>\n",
              "      <td>1</td>\n",
              "      <td>2</td>\n",
              "      <td>1</td>\n",
              "      <td>21</td>\n",
              "      <td>1396</td>\n",
              "    </tr>\n",
              "    <tr>\n",
              "      <th>2</th>\n",
              "      <td>3</td>\n",
              "      <td>954184</td>\n",
              "      <td>6</td>\n",
              "      <td>5.675</td>\n",
              "      <td>2.825</td>\n",
              "      <td>0</td>\n",
              "      <td>0</td>\n",
              "      <td>4</td>\n",
              "      <td>8</td>\n",
              "      <td>41</td>\n",
              "      <td>56</td>\n",
              "      <td>10</td>\n",
              "      <td>3</td>\n",
              "      <td>4</td>\n",
              "      <td>0</td>\n",
              "      <td>0</td>\n",
              "      <td>0</td>\n",
              "      <td>1396</td>\n",
              "    </tr>\n",
              "    <tr>\n",
              "      <th>3</th>\n",
              "      <td>4</td>\n",
              "      <td>954113</td>\n",
              "      <td>5</td>\n",
              "      <td>5.773</td>\n",
              "      <td>3.695</td>\n",
              "      <td>0</td>\n",
              "      <td>1</td>\n",
              "      <td>4</td>\n",
              "      <td>6</td>\n",
              "      <td>48</td>\n",
              "      <td>37</td>\n",
              "      <td>23</td>\n",
              "      <td>5</td>\n",
              "      <td>2</td>\n",
              "      <td>2</td>\n",
              "      <td>15</td>\n",
              "      <td>21</td>\n",
              "      <td>1396</td>\n",
              "    </tr>\n",
              "    <tr>\n",
              "      <th>4</th>\n",
              "      <td>5</td>\n",
              "      <td>953980</td>\n",
              "      <td>5</td>\n",
              "      <td>5.209</td>\n",
              "      <td>3.339</td>\n",
              "      <td>0</td>\n",
              "      <td>3</td>\n",
              "      <td>6</td>\n",
              "      <td>15</td>\n",
              "      <td>57</td>\n",
              "      <td>39</td>\n",
              "      <td>6</td>\n",
              "      <td>1</td>\n",
              "      <td>1</td>\n",
              "      <td>1</td>\n",
              "      <td>22</td>\n",
              "      <td>38</td>\n",
              "      <td>1396</td>\n",
              "    </tr>\n",
              "  </tbody>\n",
              "</table>\n",
              "</div>"
            ],
            "text/plain": [
              "   index image_id  max_rating  ...  tag_1  tag_2  challange_id\n",
              "0      1   953619           5  ...      1     22          1396\n",
              "1      2   953958           4  ...      1     21          1396\n",
              "2      3   954184           6  ...      0      0          1396\n",
              "3      4   954113           5  ...     15     21          1396\n",
              "4      5   953980           5  ...     22     38          1396\n",
              "\n",
              "[5 rows x 18 columns]"
            ]
          },
          "metadata": {
            "tags": []
          },
          "execution_count": 21
        }
      ]
    },
    {
      "cell_type": "markdown",
      "metadata": {
        "id": "MFomO5tGXTkM"
      },
      "source": [
        "### Unrar the TID2013 dataset"
      ]
    },
    {
      "cell_type": "code",
      "metadata": {
        "id": "v9J496tVXTD8"
      },
      "source": [
        "! mkdir /content/nima-dataset/tid2013\n",
        "! unrar x /content/nima-dataset/tid2013.rar /content/nima-dataset/tid2013\n",
        "! rm  /content/nima-dataset/tid2013.rar\n",
        "! mv /content/nima-dataset/mos.csv /content/nima-dataset/tid2013/"
      ],
      "execution_count": null,
      "outputs": []
    },
    {
      "cell_type": "markdown",
      "metadata": {
        "id": "J8pms_e2ZOI3"
      },
      "source": [
        "#### move files in python"
      ]
    },
    {
      "cell_type": "code",
      "metadata": {
        "id": "AHo7v-A-V_Eo"
      },
      "source": [
        "import os \n",
        "from glob import glob\n",
        "from pathlib import Path\n",
        "files = glob('/content/nima-dataset/*.BMP')\n",
        "\n",
        "if not os.path.isdir('/content/nima-dataset/tid2013'):\n",
        "  os.mkdir('/content/nima-dataset/tid2013')\n",
        "\n",
        "# [os.path.basename(file) for file in files[:5]]\n",
        "\n",
        "for file in files:\n",
        "  Path(file).rename('/content/nima-dataset/tid2013/'+os.path.basename(file))"
      ],
      "execution_count": null,
      "outputs": []
    },
    {
      "cell_type": "markdown",
      "metadata": {
        "id": "wth8mMiOXaBV"
      },
      "source": [
        "#### Unarchive the ava dataset"
      ]
    },
    {
      "cell_type": "code",
      "metadata": {
        "colab": {
          "base_uri": "https://localhost:8080/"
        },
        "id": "8VgrzHGtZSiO",
        "outputId": "5868c258-f263-42f1-c0bd-6f88ef1c13f4"
      },
      "source": [
        "import os \n",
        "from glob import glob\n",
        "from pathlib import Path\n",
        "import zipfile\n",
        "import tqdm\n",
        "\n",
        "# get the available zip files\n",
        "zip_files = glob('/content/nima-dataset/ava/images/*.zip')\n",
        "zip_files[:5]\n",
        "\n",
        "# loop for each zip file and extract the images\n",
        "for zip_file in tqdm(zip_files):\n",
        "  with zipfile.ZipFile(zip_file, 'r') as zip_ref:\n",
        "    zip_ref.extractall('/content/nima-dataset/ava/images/')\n",
        "  # delete zip file\n",
        "  os.remove(zip_file)\n",
        "  print(f'Extracted and removed file : {zip_file}')"
      ],
      "execution_count": null,
      "outputs": [
        {
          "output_type": "execute_result",
          "data": {
            "text/plain": [
              "[]"
            ]
          },
          "metadata": {
            "tags": []
          },
          "execution_count": 24
        }
      ]
    },
    {
      "cell_type": "code",
      "metadata": {
        "id": "ZVQ_JlbYRXU6"
      },
      "source": [
        "! cp -r /content/nima-dataset/ /gdrive/MyDrive/nima-dataset-2"
      ],
      "execution_count": null,
      "outputs": []
    },
    {
      "cell_type": "code",
      "metadata": {
        "id": "003fVf9MYJaC"
      },
      "source": [
        "# copy the data\n",
        "# ! cp /gdrive/MyDrive/nima-dataset/nima-dataset.zip /content/\n",
        "# ! unzip /content/nima-dataset.zip -d /content/\n",
        "# ! rm /content/nima-dataset.zip\n",
        "\n",
        "# os.chdir('/content/nima-dataset')\n",
        "# ! pwd\n",
        "! zip -rq /content/nima-dataset.zip ./*"
      ],
      "execution_count": null,
      "outputs": []
    },
    {
      "cell_type": "code",
      "metadata": {
        "id": "xdA9-7nlhOpl"
      },
      "source": [
        "# ! unzip /content/tid.zip -d /content/sample_data/tid/\n",
        "! rm -rf /content/sample_data/tid\n",
        "! rm /content/tid.zip"
      ],
      "execution_count": null,
      "outputs": []
    },
    {
      "cell_type": "code",
      "metadata": {
        "id": "9zu7Z1uiezMt",
        "colab": {
          "base_uri": "https://localhost:8080/"
        },
        "outputId": "5aaa5005-02b6-46ae-a4f0-ea5b8514b7c2"
      },
      "source": [
        "[i for i in range(1, 10)] "
      ],
      "execution_count": null,
      "outputs": [
        {
          "output_type": "execute_result",
          "data": {
            "text/plain": [
              "[1, 2, 3, 4, 5, 6, 7, 8, 9]"
            ]
          },
          "metadata": {
            "tags": []
          },
          "execution_count": 8
        }
      ]
    }
  ]
}