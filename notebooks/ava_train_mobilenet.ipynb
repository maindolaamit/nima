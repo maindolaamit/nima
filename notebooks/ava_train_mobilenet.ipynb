{
 "cells": [
  {
   "cell_type": "markdown",
   "source": [
    "#### Install Libraries"
   ],
   "metadata": {}
  },
  {
   "cell_type": "code",
   "execution_count": 1,
   "source": [
    "! pip install livelossplot --quiet"
   ],
   "outputs": [],
   "metadata": {}
  },
  {
   "cell_type": "markdown",
   "source": [
    "### Import libraries"
   ],
   "metadata": {}
  },
  {
   "cell_type": "code",
   "execution_count": 2,
   "source": [
    "import os\r\n",
    "from pathlib import Path\r\n",
    "import pandas as pd\r\n",
    "import matplotlib.pyplot as plt\r\n",
    "import seaborn as sns\r\n",
    "import numpy as np\r\n",
    "import tensorflow.keras as keras\r\n",
    "\r\n",
    "import sys\r\n",
    "sys.path.append('/home/jovyan/work')\r\n",
    "\r\n",
    "import nima as nima\r\n"
   ],
   "outputs": [],
   "metadata": {}
  },
  {
   "cell_type": "code",
   "execution_count": 23,
   "source": [
    "! pwd"
   ],
   "outputs": [
    {
     "output_type": "stream",
     "name": "stdout",
     "text": [
      "/home/jovyan\n"
     ]
    }
   ],
   "metadata": {}
  },
  {
   "cell_type": "code",
   "execution_count": 59,
   "source": [
    "AVA_DATASET_DIR = '/home/jovyan/work/data/AVA/'\r\n",
    "PROJECT_ROOT_DIR = '/home/jovyan/work/'\r\n",
    "AVA_IMAGES_DIR = os.path.join(AVA_DATASET_DIR, 'images')\r\n",
    "WEIGHTS_DIR = os.path.join(PROJECT_ROOT_DIR, )\r\n",
    "assert os.path.isdir(AVA_DATASET_DIR), f'Invalid directory : {AVA_DATASET_DIR}'\r\n",
    "\r\n",
    "from nima.utils.ava_dataset_utils import load_data, get_rating_columns"
   ],
   "outputs": [],
   "metadata": {}
  },
  {
   "cell_type": "markdown",
   "source": [
    "### Load Dataset"
   ],
   "metadata": {}
  },
  {
   "cell_type": "code",
   "execution_count": 60,
   "source": [
    "print(f'Project Root Directory : {PROJECT_ROOT_DIR}')\r\n",
    "\r\n",
    "df_train, df_valid, df_test = load_data(AVA_DATASET_DIR, sample_size=10000)\r\n",
    "print(f\"Training length : {len(df_train)}, Validation length : {len(df_valid)}, Test size : {len(df_test)}\")"
   ],
   "outputs": [
    {
     "output_type": "stream",
     "name": "stdout",
     "text": [
      "Project Root Directory : /home/jovyan/work/\n",
      "Number of samples picked 10000\n",
      "Training length : 6649, Validation length : 2850, Test size : 500\n"
     ]
    }
   ],
   "metadata": {}
  },
  {
   "cell_type": "markdown",
   "source": [
    "### Create Model"
   ],
   "metadata": {}
  },
  {
   "cell_type": "code",
   "execution_count": 70,
   "source": [
    "from nima.model.model_builder import NIMA\r\n",
    "\r\n",
    "nima_cnn = NIMA(base_model_name='vgg', metrics=['accuracy'])\r\n",
    "nima_cnn.build()\r\n",
    "nima_cnn.model.summary()\r\n",
    "nima_cnn.compile()"
   ],
   "outputs": [
    {
     "output_type": "stream",
     "name": "stdout",
     "text": [
      "Model's module - tensorflow.keras.applications.vgg19.VGG19\n",
      "Model: \"model_3\"\n",
      "_________________________________________________________________\n",
      "Layer (type)                 Output Shape              Param #   \n",
      "=================================================================\n",
      "input_4 (InputLayer)         [(None, 224, 224, 3)]     0         \n",
      "_________________________________________________________________\n",
      "block1_conv1 (Conv2D)        (None, 224, 224, 64)      1792      \n",
      "_________________________________________________________________\n",
      "block1_conv2 (Conv2D)        (None, 224, 224, 64)      36928     \n",
      "_________________________________________________________________\n",
      "block1_pool (MaxPooling2D)   (None, 112, 112, 64)      0         \n",
      "_________________________________________________________________\n",
      "block2_conv1 (Conv2D)        (None, 112, 112, 128)     73856     \n",
      "_________________________________________________________________\n",
      "block2_conv2 (Conv2D)        (None, 112, 112, 128)     147584    \n",
      "_________________________________________________________________\n",
      "block2_pool (MaxPooling2D)   (None, 56, 56, 128)       0         \n",
      "_________________________________________________________________\n",
      "block3_conv1 (Conv2D)        (None, 56, 56, 256)       295168    \n",
      "_________________________________________________________________\n",
      "block3_conv2 (Conv2D)        (None, 56, 56, 256)       590080    \n",
      "_________________________________________________________________\n",
      "block3_conv3 (Conv2D)        (None, 56, 56, 256)       590080    \n",
      "_________________________________________________________________\n",
      "block3_conv4 (Conv2D)        (None, 56, 56, 256)       590080    \n",
      "_________________________________________________________________\n",
      "block3_pool (MaxPooling2D)   (None, 28, 28, 256)       0         \n",
      "_________________________________________________________________\n",
      "block4_conv1 (Conv2D)        (None, 28, 28, 512)       1180160   \n",
      "_________________________________________________________________\n",
      "block4_conv2 (Conv2D)        (None, 28, 28, 512)       2359808   \n",
      "_________________________________________________________________\n",
      "block4_conv3 (Conv2D)        (None, 28, 28, 512)       2359808   \n",
      "_________________________________________________________________\n",
      "block4_conv4 (Conv2D)        (None, 28, 28, 512)       2359808   \n",
      "_________________________________________________________________\n",
      "block4_pool (MaxPooling2D)   (None, 14, 14, 512)       0         \n",
      "_________________________________________________________________\n",
      "block5_conv1 (Conv2D)        (None, 14, 14, 512)       2359808   \n",
      "_________________________________________________________________\n",
      "block5_conv2 (Conv2D)        (None, 14, 14, 512)       2359808   \n",
      "_________________________________________________________________\n",
      "block5_conv3 (Conv2D)        (None, 14, 14, 512)       2359808   \n",
      "_________________________________________________________________\n",
      "block5_conv4 (Conv2D)        (None, 14, 14, 512)       2359808   \n",
      "_________________________________________________________________\n",
      "block5_pool (MaxPooling2D)   (None, 7, 7, 512)         0         \n",
      "_________________________________________________________________\n",
      "global_average_pooling2d_3 ( (None, 512)               0         \n",
      "_________________________________________________________________\n",
      "dropout_3 (Dropout)          (None, 512)               0         \n",
      "_________________________________________________________________\n",
      "dense_3 (Dense)              (None, 10)                5130      \n",
      "=================================================================\n",
      "Total params: 20,029,514\n",
      "Trainable params: 20,029,514\n",
      "Non-trainable params: 0\n",
      "_________________________________________________________________\n",
      "Model compiled successfully.\n"
     ]
    }
   ],
   "metadata": {}
  },
  {
   "cell_type": "markdown",
   "source": [
    "### Create Datagenerators"
   ],
   "metadata": {}
  },
  {
   "cell_type": "code",
   "execution_count": 71,
   "source": [
    "from nima.model.data_generator import NimaDataGenerator\r\n",
    "\r\n",
    "x_col, y_cols = 'image_id', get_rating_columns()\r\n",
    "\r\n",
    "train_datagen = NimaDataGenerator(\r\n",
    "    df_train,\r\n",
    "    AVA_IMAGES_DIR,\r\n",
    "    x_col,\r\n",
    "    y_cols,\r\n",
    "    nima_cnn.preprocessing_function(),\r\n",
    "    is_train=True,\r\n",
    "    batch_size=32,\r\n",
    ")\r\n",
    "valid_datagen = NimaDataGenerator(\r\n",
    "    df_valid,\r\n",
    "    AVA_IMAGES_DIR,\r\n",
    "    x_col,\r\n",
    "    y_cols,\r\n",
    "    nima_cnn.preprocessing_function(),\r\n",
    "    is_train=True,\r\n",
    "    batch_size=32,\r\n",
    ")\r\n",
    "test_datagen = NimaDataGenerator(\r\n",
    "    df_test,\r\n",
    "    AVA_IMAGES_DIR,\r\n",
    "    x_col,\r\n",
    "    None,\r\n",
    "    nima_cnn.preprocessing_function(),\r\n",
    "    is_train=False,\r\n",
    "    batch_size=32,\r\n",
    ")"
   ],
   "outputs": [
    {
     "output_type": "stream",
     "name": "stdout",
     "text": [
      "Found 6649 valid image filenames belonging to 10 classes.\n",
      "Found 2850 valid image filenames belonging to 10 classes.\n",
      "Found 500 valid image filenames belonging to 10 classes.\n"
     ]
    }
   ],
   "metadata": {}
  },
  {
   "cell_type": "code",
   "execution_count": 72,
   "source": [
    "from keras.callbacks import EarlyStopping, ModelCheckpoint, ReduceLROnPlateau\r\n",
    "from livelossplot.inputs.keras import PlotLossesCallback\r\n",
    "import time\r\n",
    "    \r\n",
    "arg_verbose, arg_epochs = 1, 32\r\n",
    "\r\n",
    "# # set model weight and path\r\n",
    "# weight_filename = f'{nima_cnn.base_model_name}_weight_best.hdf5'\r\n",
    "# weight_filepath = os.path.join(WEIGHTS_DIR, weight_filename)\r\n",
    "# print(f'Model Weight path : {weight_filepath}')\r\n",
    "\r\n",
    "# es = EarlyStopping(monitor='val_loss', patience=4, verbose=arg_verbose)\r\n",
    "# ckpt = ModelCheckpoint(\r\n",
    "#     filepath=weight_filepath,\r\n",
    "#     save_weights_only=True,\r\n",
    "#     monitor=\"val_earth_movers_distance\",\r\n",
    "#     mode=\"auto\",\r\n",
    "#     save_best_only=True,\r\n",
    "# )\r\n",
    "# lr = ReduceLROnPlateau(monitor='val_loss', patience=2, verbose=1)\r\n",
    "# plot_loss = PlotLossesCallback()\r\n",
    "\r\n",
    "# # start training\r\n",
    "# start_time = time.perf_counter()\r\n",
    "# history = nima_cnn.model.fit(train_datagen, validation_data=valid_datagen,\r\n",
    "#     epochs=arg_epochs, callbacks=[es, ckpt, lr, plot_loss],\r\n",
    "#     verbose=arg_verbose)\r\n",
    "# end_time = time.perf_counter()\r\n",
    "# print(f'Time taken : {time.strftime(\"%H:%M:%S\", time.gmtime(end_time-start_time))}')\r\n",
    "\r\n",
    "# result_df = pd.DataFrame(history.history)\r\n",
    "\r\n",
    "result_df, weight_filepath = nima_cnn.train_model(train_datagen, valid_datagen, epochs=arg_epochs, verbose=arg_verbose)"
   ],
   "outputs": [
    {
     "output_type": "display_data",
     "data": {
      "text/plain": [
       "<Figure size 864x864 with 4 Axes>"
      ],
      "image/png": "[encoded data removed]"
     },
     "metadata": {
      "needs_background": "light"
     }
    },
    {
     "output_type": "stream",
     "name": "stdout",
     "text": [
      "accuracy\n",
      "\ttraining         \t (min:    0.002, max:    0.215, cur:    0.002)\n",
      "\tvalidation       \t (min:    0.011, max:    0.225, cur:    0.011)\n",
      "Loss\n",
      "\ttraining         \t (min:    0.241, max:    0.242, cur:      nan)\n",
      "\tvalidation       \t (min:    0.240, max:    0.240, cur:      nan)\n",
      "lr\n",
      "\tlr               \t (min:    0.000, max:    0.001, cur:    0.000)\n",
      "Epoch 00005: early stopping\n",
      "Time taken : 05:37:10\n"
     ]
    }
   ],
   "metadata": {}
  },
  {
   "cell_type": "code",
   "execution_count": 74,
   "source": [
    "result_df.head()"
   ],
   "outputs": [
    {
     "output_type": "execute_result",
     "data": {
      "text/plain": [
       "       loss  accuracy  val_loss  val_accuracy      lr\n",
       "0  0.241569  0.214844  0.240456      0.215972  0.0010\n",
       "1  0.240698  0.215294       NaN      0.225347  0.0010\n",
       "2       NaN  0.048077       NaN      0.012500  0.0010\n",
       "3       NaN  0.003305       NaN      0.010764  0.0001\n",
       "4       NaN  0.002404       NaN      0.010764  0.0001"
      ],
      "text/html": [
       "<div>\n",
       "<style scoped>\n",
       "    .dataframe tbody tr th:only-of-type {\n",
       "        vertical-align: middle;\n",
       "    }\n",
       "\n",
       "    .dataframe tbody tr th {\n",
       "        vertical-align: top;\n",
       "    }\n",
       "\n",
       "    .dataframe thead th {\n",
       "        text-align: right;\n",
       "    }\n",
       "</style>\n",
       "<table border=\"1\" class=\"dataframe\">\n",
       "  <thead>\n",
       "    <tr style=\"text-align: right;\">\n",
       "      <th></th>\n",
       "      <th>loss</th>\n",
       "      <th>accuracy</th>\n",
       "      <th>val_loss</th>\n",
       "      <th>val_accuracy</th>\n",
       "      <th>lr</th>\n",
       "    </tr>\n",
       "  </thead>\n",
       "  <tbody>\n",
       "    <tr>\n",
       "      <th>0</th>\n",
       "      <td>0.241569</td>\n",
       "      <td>0.214844</td>\n",
       "      <td>0.240456</td>\n",
       "      <td>0.215972</td>\n",
       "      <td>0.0010</td>\n",
       "    </tr>\n",
       "    <tr>\n",
       "      <th>1</th>\n",
       "      <td>0.240698</td>\n",
       "      <td>0.215294</td>\n",
       "      <td>NaN</td>\n",
       "      <td>0.225347</td>\n",
       "      <td>0.0010</td>\n",
       "    </tr>\n",
       "    <tr>\n",
       "      <th>2</th>\n",
       "      <td>NaN</td>\n",
       "      <td>0.048077</td>\n",
       "      <td>NaN</td>\n",
       "      <td>0.012500</td>\n",
       "      <td>0.0010</td>\n",
       "    </tr>\n",
       "    <tr>\n",
       "      <th>3</th>\n",
       "      <td>NaN</td>\n",
       "      <td>0.003305</td>\n",
       "      <td>NaN</td>\n",
       "      <td>0.010764</td>\n",
       "      <td>0.0001</td>\n",
       "    </tr>\n",
       "    <tr>\n",
       "      <th>4</th>\n",
       "      <td>NaN</td>\n",
       "      <td>0.002404</td>\n",
       "      <td>NaN</td>\n",
       "      <td>0.010764</td>\n",
       "      <td>0.0001</td>\n",
       "    </tr>\n",
       "  </tbody>\n",
       "</table>\n",
       "</div>"
      ]
     },
     "metadata": {},
     "execution_count": 74
    }
   ],
   "metadata": {}
  },
  {
   "cell_type": "code",
   "execution_count": null,
   "source": [
    "test_datagen = NimaDataGenerator(df_test, )\r\n",
    "nima_cnn.model.predict"
   ],
   "outputs": [],
   "metadata": {}
  }
 ],
 "metadata": {
  "kernelspec": {
   "display_name": "Python 3",
   "language": "python",
   "name": "python3"
  },
  "language_info": {
   "name": "python",
   "version": "3.8.6",
   "mimetype": "text/x-python",
   "codemirror_mode": {
    "name": "ipython",
    "version": 3
   },
   "pygments_lexer": "ipython3",
   "nbconvert_exporter": "python",
   "file_extension": ".py"
  }
 },
 "nbformat": 4,
 "nbformat_minor": 5
}