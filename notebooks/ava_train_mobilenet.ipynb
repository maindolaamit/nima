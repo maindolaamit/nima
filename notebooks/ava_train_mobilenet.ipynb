{
 "cells": [
  {
   "cell_type": "markdown",
   "source": [
    "#### Install Libraries"
   ],
   "metadata": {}
  },
  {
   "cell_type": "code",
   "execution_count": 12,
   "source": [
    "! pip install livelossplot"
   ],
   "outputs": [
    {
     "output_type": "stream",
     "name": "stdout",
     "text": [
      "Collecting livelossplot\n",
      "  Downloading livelossplot-0.5.4-py3-none-any.whl (22 kB)\n",
      "Requirement already satisfied: matplotlib in /opt/conda/lib/python3.8/site-packages (from livelossplot) (3.3.3)\n",
      "Requirement already satisfied: ipython in /opt/conda/lib/python3.8/site-packages (from livelossplot) (7.19.0)\n",
      "Requirement already satisfied: bokeh in /opt/conda/lib/python3.8/site-packages (from livelossplot) (2.2.3)\n",
      "Requirement already satisfied: Jinja2>=2.7 in /opt/conda/lib/python3.8/site-packages (from bokeh->livelossplot) (2.11.2)\n",
      "Requirement already satisfied: typing-extensions>=3.7.4 in /opt/conda/lib/python3.8/site-packages (from bokeh->livelossplot) (3.7.4.3)\n",
      "Requirement already satisfied: PyYAML>=3.10 in /opt/conda/lib/python3.8/site-packages (from bokeh->livelossplot) (5.4.1)\n",
      "Requirement already satisfied: python-dateutil>=2.1 in /opt/conda/lib/python3.8/site-packages (from bokeh->livelossplot) (2.8.1)\n",
      "Requirement already satisfied: pillow>=7.1.0 in /opt/conda/lib/python3.8/site-packages (from bokeh->livelossplot) (8.1.0)\n",
      "Requirement already satisfied: tornado>=5.1 in /opt/conda/lib/python3.8/site-packages (from bokeh->livelossplot) (6.1)\n",
      "Requirement already satisfied: numpy>=1.11.3 in /opt/conda/lib/python3.8/site-packages (from bokeh->livelossplot) (1.19.5)\n",
      "Requirement already satisfied: packaging>=16.8 in /opt/conda/lib/python3.8/site-packages (from bokeh->livelossplot) (20.8)\n",
      "Requirement already satisfied: MarkupSafe>=0.23 in /opt/conda/lib/python3.8/site-packages (from Jinja2>=2.7->bokeh->livelossplot) (1.1.1)\n",
      "Requirement already satisfied: pyparsing>=2.0.2 in /opt/conda/lib/python3.8/site-packages (from packaging>=16.8->bokeh->livelossplot) (2.4.7)\n",
      "Requirement already satisfied: six>=1.5 in /opt/conda/lib/python3.8/site-packages (from python-dateutil>=2.1->bokeh->livelossplot) (1.15.0)\n",
      "Requirement already satisfied: pygments in /opt/conda/lib/python3.8/site-packages (from ipython->livelossplot) (2.7.4)\n",
      "Requirement already satisfied: pickleshare in /opt/conda/lib/python3.8/site-packages (from ipython->livelossplot) (0.7.5)\n",
      "Requirement already satisfied: backcall in /opt/conda/lib/python3.8/site-packages (from ipython->livelossplot) (0.2.0)\n",
      "Requirement already satisfied: prompt-toolkit!=3.0.0,!=3.0.1,<3.1.0,>=2.0.0 in /opt/conda/lib/python3.8/site-packages (from ipython->livelossplot) (3.0.14)\n",
      "Requirement already satisfied: decorator in /opt/conda/lib/python3.8/site-packages (from ipython->livelossplot) (4.4.2)\n",
      "Requirement already satisfied: traitlets>=4.2 in /opt/conda/lib/python3.8/site-packages (from ipython->livelossplot) (5.0.5)\n",
      "Requirement already satisfied: pexpect>4.3 in /opt/conda/lib/python3.8/site-packages (from ipython->livelossplot) (4.8.0)\n",
      "Requirement already satisfied: setuptools>=18.5 in /opt/conda/lib/python3.8/site-packages (from ipython->livelossplot) (49.6.0.post20210108)\n",
      "Requirement already satisfied: jedi>=0.10 in /opt/conda/lib/python3.8/site-packages (from ipython->livelossplot) (0.17.2)\n",
      "Requirement already satisfied: parso<0.8.0,>=0.7.0 in /opt/conda/lib/python3.8/site-packages (from jedi>=0.10->ipython->livelossplot) (0.7.1)\n",
      "Requirement already satisfied: ptyprocess>=0.5 in /opt/conda/lib/python3.8/site-packages (from pexpect>4.3->ipython->livelossplot) (0.7.0)\n",
      "Requirement already satisfied: wcwidth in /opt/conda/lib/python3.8/site-packages (from prompt-toolkit!=3.0.0,!=3.0.1,<3.1.0,>=2.0.0->ipython->livelossplot) (0.2.5)\n",
      "Requirement already satisfied: ipython-genutils in /opt/conda/lib/python3.8/site-packages (from traitlets>=4.2->ipython->livelossplot) (0.2.0)\n",
      "Requirement already satisfied: kiwisolver>=1.0.1 in /opt/conda/lib/python3.8/site-packages (from matplotlib->livelossplot) (1.3.1)\n",
      "Requirement already satisfied: cycler>=0.10 in /opt/conda/lib/python3.8/site-packages (from matplotlib->livelossplot) (0.10.0)\n",
      "Installing collected packages: livelossplot\n",
      "Successfully installed livelossplot-0.5.4\n"
     ]
    }
   ],
   "metadata": {}
  },
  {
   "cell_type": "markdown",
   "source": [
    "### Import libraries"
   ],
   "metadata": {}
  },
  {
   "cell_type": "code",
   "execution_count": 22,
   "source": [
    "import os\r\n",
    "from pathlib import Path\r\n",
    "import pandas as pd\r\n",
    "import matplotlib.pyplot as plt\r\n",
    "import seaborn as sns\r\n",
    "import numpy as np\r\n",
    "import tensorflow.keras as keras\r\n",
    "\r\n",
    "import sys\r\n",
    "sys.path.append('/home/jovyan/work')\r\n",
    "\r\n",
    "import nima as nima\r\n"
   ],
   "outputs": [],
   "metadata": {}
  },
  {
   "cell_type": "code",
   "execution_count": 23,
   "source": [
    "! pwd"
   ],
   "outputs": [
    {
     "output_type": "stream",
     "name": "stdout",
     "text": [
      "/home/jovyan\n"
     ]
    }
   ],
   "metadata": {}
  },
  {
   "cell_type": "code",
   "execution_count": 31,
   "source": [
    "AVA_DATASET_DIR = '/home/jovyan/work/data/AVA/'\r\n",
    "PROJECT_ROOT_DIR = '/home/jovyan/work/'\r\n",
    "AVA_IMAGES_DIR = os.path.join(AVA_DATASET_DIR, 'images')\r\n",
    "WEIGHTS_DIR = os.path.join(PROJECT_ROOT_DIR, )\r\n",
    "assert os.path.isdir(AVA_DATASET_DIR), f'Invalid directory : {AVA_DATASET_DIR}'\r\n",
    "\r\n",
    "from nima.utils.ava_dataset_utils import load_data, get_rating_columns"
   ],
   "outputs": [],
   "metadata": {}
  },
  {
   "cell_type": "markdown",
   "source": [
    "### Load Dataset"
   ],
   "metadata": {}
  },
  {
   "cell_type": "code",
   "execution_count": 32,
   "source": [
    "print(f'Project Root Directory : {PROJECT_ROOT_DIR}')\r\n",
    "\r\n",
    "df_train, df_valid, df_test = load_data(AVA_DATASET_DIR, sample_size=1000)\r\n",
    "print(f\"Training length : {len(df_train)}, Validation length : {len(df_valid)}, Test size : {len(df_test)}\")"
   ],
   "outputs": [
    {
     "output_type": "stream",
     "name": "stdout",
     "text": [
      "Project Root Directory : /home/jovyan/work/\n",
      "Number of samples picked 1000\n",
      "Training length : 664, Validation length : 285, Test size : 50\n"
     ]
    }
   ],
   "metadata": {}
  },
  {
   "cell_type": "code",
   "execution_count": 33,
   "source": [
    "df_train.head()"
   ],
   "outputs": [
    {
     "output_type": "execute_result",
     "data": {
      "text/plain": [
       "   image_id  count_rating_1  count_rating_2  count_rating_3  count_rating_4  \\\n",
       "0    123500               2               9              34              77   \n",
       "1    137078               1               3               4              32   \n",
       "2    136778               0               3              17              25   \n",
       "3    103641               2               4               8              23   \n",
       "4    103604               0               8              13              37   \n",
       "\n",
       "   count_rating_5  count_rating_6  count_rating_7  count_rating_8  \\\n",
       "0              80              51              24               0   \n",
       "1              78              43              17               3   \n",
       "2              76              43               8               7   \n",
       "3              37              65              53              43   \n",
       "4              71              65              34              19   \n",
       "\n",
       "   count_rating_9  count_rating_10  \n",
       "0               2                0  \n",
       "1               1                2  \n",
       "2               4                1  \n",
       "3              29               18  \n",
       "4               6                2  "
      ],
      "text/html": [
       "<div>\n",
       "<style scoped>\n",
       "    .dataframe tbody tr th:only-of-type {\n",
       "        vertical-align: middle;\n",
       "    }\n",
       "\n",
       "    .dataframe tbody tr th {\n",
       "        vertical-align: top;\n",
       "    }\n",
       "\n",
       "    .dataframe thead th {\n",
       "        text-align: right;\n",
       "    }\n",
       "</style>\n",
       "<table border=\"1\" class=\"dataframe\">\n",
       "  <thead>\n",
       "    <tr style=\"text-align: right;\">\n",
       "      <th></th>\n",
       "      <th>image_id</th>\n",
       "      <th>count_rating_1</th>\n",
       "      <th>count_rating_2</th>\n",
       "      <th>count_rating_3</th>\n",
       "      <th>count_rating_4</th>\n",
       "      <th>count_rating_5</th>\n",
       "      <th>count_rating_6</th>\n",
       "      <th>count_rating_7</th>\n",
       "      <th>count_rating_8</th>\n",
       "      <th>count_rating_9</th>\n",
       "      <th>count_rating_10</th>\n",
       "    </tr>\n",
       "  </thead>\n",
       "  <tbody>\n",
       "    <tr>\n",
       "      <th>0</th>\n",
       "      <td>123500</td>\n",
       "      <td>2</td>\n",
       "      <td>9</td>\n",
       "      <td>34</td>\n",
       "      <td>77</td>\n",
       "      <td>80</td>\n",
       "      <td>51</td>\n",
       "      <td>24</td>\n",
       "      <td>0</td>\n",
       "      <td>2</td>\n",
       "      <td>0</td>\n",
       "    </tr>\n",
       "    <tr>\n",
       "      <th>1</th>\n",
       "      <td>137078</td>\n",
       "      <td>1</td>\n",
       "      <td>3</td>\n",
       "      <td>4</td>\n",
       "      <td>32</td>\n",
       "      <td>78</td>\n",
       "      <td>43</td>\n",
       "      <td>17</td>\n",
       "      <td>3</td>\n",
       "      <td>1</td>\n",
       "      <td>2</td>\n",
       "    </tr>\n",
       "    <tr>\n",
       "      <th>2</th>\n",
       "      <td>136778</td>\n",
       "      <td>0</td>\n",
       "      <td>3</td>\n",
       "      <td>17</td>\n",
       "      <td>25</td>\n",
       "      <td>76</td>\n",
       "      <td>43</td>\n",
       "      <td>8</td>\n",
       "      <td>7</td>\n",
       "      <td>4</td>\n",
       "      <td>1</td>\n",
       "    </tr>\n",
       "    <tr>\n",
       "      <th>3</th>\n",
       "      <td>103641</td>\n",
       "      <td>2</td>\n",
       "      <td>4</td>\n",
       "      <td>8</td>\n",
       "      <td>23</td>\n",
       "      <td>37</td>\n",
       "      <td>65</td>\n",
       "      <td>53</td>\n",
       "      <td>43</td>\n",
       "      <td>29</td>\n",
       "      <td>18</td>\n",
       "    </tr>\n",
       "    <tr>\n",
       "      <th>4</th>\n",
       "      <td>103604</td>\n",
       "      <td>0</td>\n",
       "      <td>8</td>\n",
       "      <td>13</td>\n",
       "      <td>37</td>\n",
       "      <td>71</td>\n",
       "      <td>65</td>\n",
       "      <td>34</td>\n",
       "      <td>19</td>\n",
       "      <td>6</td>\n",
       "      <td>2</td>\n",
       "    </tr>\n",
       "  </tbody>\n",
       "</table>\n",
       "</div>"
      ]
     },
     "metadata": {},
     "execution_count": 33
    }
   ],
   "metadata": {}
  },
  {
   "cell_type": "markdown",
   "source": [
    "### Create Model"
   ],
   "metadata": {}
  },
  {
   "cell_type": "code",
   "execution_count": 63,
   "source": [
    "from nima.model.model_builder import NIMA\r\n",
    "\r\n",
    "nima_cnn = NIMA(base_model_name='vgg', metrics=['accuracy'])\r\n",
    "nima_cnn.build()\r\n",
    "# nima_cnn.model.summary()\r\n",
    "nima_cnn.compile()"
   ],
   "outputs": [
    {
     "output_type": "stream",
     "name": "stdout",
     "text": [
      "Model's module - tensorflow.keras.applications.vgg19.VGG19\n"
     ]
    }
   ],
   "metadata": {}
  },
  {
   "cell_type": "markdown",
   "source": [
    "### Create Datagenerators"
   ],
   "metadata": {}
  },
  {
   "cell_type": "code",
   "execution_count": 60,
   "source": [
    "from nima.model.data_generator import NimaDataGenerator\r\n",
    "\r\n",
    "x_col, y_cols = 'image_id', get_rating_columns()\r\n",
    "\r\n",
    "train_datagen = NimaDataGenerator(\r\n",
    "    df_train,\r\n",
    "    AVA_IMAGES_DIR,\r\n",
    "    x_col,\r\n",
    "    y_cols,\r\n",
    "    nima_cnn.preprocessing_function(),\r\n",
    "    is_train=True,\r\n",
    "    batch_size=32,\r\n",
    ")\r\n",
    "valid_datagen = NimaDataGenerator(\r\n",
    "    df_valid,\r\n",
    "    AVA_IMAGES_DIR,\r\n",
    "    x_col,\r\n",
    "    y_cols,\r\n",
    "    nima_cnn.preprocessing_function(),\r\n",
    "    is_train=True,\r\n",
    "    batch_size=32,\r\n",
    ")\r\n",
    "test_datagen = NimaDataGenerator(\r\n",
    "    df_test,\r\n",
    "    AVA_IMAGES_DIR,\r\n",
    "    x_col,\r\n",
    "    None,\r\n",
    "    nima_cnn.preprocessing_function(),\r\n",
    "    is_train=False,\r\n",
    "    batch_size=32,\r\n",
    ")"
   ],
   "outputs": [
    {
     "output_type": "stream",
     "name": "stdout",
     "text": [
      "Found 664 valid image filenames belonging to 10 classes.\n",
      "Found 285 valid image filenames belonging to 10 classes.\n",
      "Found 50 valid image filenames belonging to 10 classes.\n"
     ]
    }
   ],
   "metadata": {}
  },
  {
   "cell_type": "code",
   "execution_count": 61,
   "source": [
    "from keras.callbacks import EarlyStopping, ModelCheckpoint, ReduceLROnPlateau\r\n",
    "from livelossplot.inputs.keras import PlotLossesCallback\r\n",
    "import time\r\n",
    "\r\n",
    "arg_verbose, arg_epochs = 1, 32\r\n",
    "\r\n",
    "# set model weight and path\r\n",
    "weight_filename = f'{nima_cnn.base_model_name}_weight_best.hdf5'\r\n",
    "weight_filepath = os.path.join(WEIGHTS_DIR, weight_filename)\r\n",
    "print(f'Model Weight path : {weight_filepath}')\r\n",
    "\r\n",
    "es = EarlyStopping(monitor='val_loss', patience=4, verbose=arg_verbose)\r\n",
    "ckpt = ModelCheckpoint(\r\n",
    "    filepath=weight_filepath,\r\n",
    "    save_weights_only=True,\r\n",
    "    monitor=\"val_earth_movers_distance\",\r\n",
    "    mode=\"auto\",\r\n",
    "    save_best_only=True,\r\n",
    ")\r\n",
    "lr = ReduceLROnPlateau(monitor='val_loss', patience=2, verbose=1)\r\n",
    "plot_loss = PlotLossesCallback()\r\n",
    "\r\n",
    "# start training\r\n",
    "start_time = time.perf_counter()\r\n",
    "history = nima_cnn.model.fit(train_datagen, validation_data=valid_datagen,\r\n",
    "    epochs=arg_epochs, callbacks=[es, ckpt, lr, plot_loss],\r\n",
    "    verbose=arg_verbose)\r\n",
    "end_time = time.perf_counter()\r\n",
    "print(f'Time taken : {time.strftime(\"%H:%M:%S\", time.gmtime(end_time-start_time))}')\r\n",
    "\r\n",
    "result_df = pd.DataFrame(history.history)"
   ],
   "outputs": [
    {
     "output_type": "stream",
     "name": "stdout",
     "text": [
      "Model Weight path : /home/jovyan/work/VGG19_weight_best.hdf5\n",
      "<class 'method'>\n",
      "(32, 224, 224, 3)\n"
     ]
    },
    {
     "output_type": "error",
     "ename": "TypeError",
     "evalue": "preprocess_input() takes 1 positional argument but 2 were given",
     "traceback": [
      "\u001b[0;31m---------------------------------------------------------------------------\u001b[0m",
      "\u001b[0;31mTypeError\u001b[0m                                 Traceback (most recent call last)",
      "\u001b[0;32m<ipython-input-61-7de1cc4ff107>\u001b[0m in \u001b[0;36m<module>\u001b[0;34m\u001b[0m\n\u001b[1;32m     23\u001b[0m \u001b[0;31m# start training\u001b[0m\u001b[0;34m\u001b[0m\u001b[0;34m\u001b[0m\u001b[0;34m\u001b[0m\u001b[0m\n\u001b[1;32m     24\u001b[0m \u001b[0mstart_time\u001b[0m \u001b[0;34m=\u001b[0m \u001b[0mtime\u001b[0m\u001b[0;34m.\u001b[0m\u001b[0mperf_counter\u001b[0m\u001b[0;34m(\u001b[0m\u001b[0;34m)\u001b[0m\u001b[0;34m\u001b[0m\u001b[0;34m\u001b[0m\u001b[0m\n\u001b[0;32m---> 25\u001b[0;31m history = nima_cnn.model.fit(train_datagen, validation_data=valid_datagen,\n\u001b[0m\u001b[1;32m     26\u001b[0m     \u001b[0mepochs\u001b[0m\u001b[0;34m=\u001b[0m\u001b[0marg_epochs\u001b[0m\u001b[0;34m,\u001b[0m \u001b[0mcallbacks\u001b[0m\u001b[0;34m=\u001b[0m\u001b[0;34m[\u001b[0m\u001b[0mes\u001b[0m\u001b[0;34m,\u001b[0m \u001b[0mckpt\u001b[0m\u001b[0;34m,\u001b[0m \u001b[0mlr\u001b[0m\u001b[0;34m,\u001b[0m \u001b[0mplot_loss\u001b[0m\u001b[0;34m]\u001b[0m\u001b[0;34m,\u001b[0m\u001b[0;34m\u001b[0m\u001b[0;34m\u001b[0m\u001b[0m\n\u001b[1;32m     27\u001b[0m     verbose=arg_verbose)\n",
      "\u001b[0;32m/opt/conda/lib/python3.8/site-packages/tensorflow/python/keras/engine/training.py\u001b[0m in \u001b[0;36mfit\u001b[0;34m(self, x, y, batch_size, epochs, verbose, callbacks, validation_split, validation_data, shuffle, class_weight, sample_weight, initial_epoch, steps_per_epoch, validation_steps, validation_batch_size, validation_freq, max_queue_size, workers, use_multiprocessing)\u001b[0m\n\u001b[1;32m   1048\u001b[0m          \u001b[0mtraining_utils\u001b[0m\u001b[0;34m.\u001b[0m\u001b[0mRespectCompiledTrainableState\u001b[0m\u001b[0;34m(\u001b[0m\u001b[0mself\u001b[0m\u001b[0;34m)\u001b[0m\u001b[0;34m:\u001b[0m\u001b[0;34m\u001b[0m\u001b[0;34m\u001b[0m\u001b[0m\n\u001b[1;32m   1049\u001b[0m       \u001b[0;31m# Creates a `tf.data.Dataset` and handles batch and epoch iteration.\u001b[0m\u001b[0;34m\u001b[0m\u001b[0;34m\u001b[0m\u001b[0;34m\u001b[0m\u001b[0m\n\u001b[0;32m-> 1050\u001b[0;31m       data_handler = data_adapter.DataHandler(\n\u001b[0m\u001b[1;32m   1051\u001b[0m           \u001b[0mx\u001b[0m\u001b[0;34m=\u001b[0m\u001b[0mx\u001b[0m\u001b[0;34m,\u001b[0m\u001b[0;34m\u001b[0m\u001b[0;34m\u001b[0m\u001b[0m\n\u001b[1;32m   1052\u001b[0m           \u001b[0my\u001b[0m\u001b[0;34m=\u001b[0m\u001b[0my\u001b[0m\u001b[0;34m,\u001b[0m\u001b[0;34m\u001b[0m\u001b[0;34m\u001b[0m\u001b[0m\n",
      "\u001b[0;32m/opt/conda/lib/python3.8/site-packages/tensorflow/python/keras/engine/data_adapter.py\u001b[0m in \u001b[0;36m__init__\u001b[0;34m(self, x, y, sample_weight, batch_size, steps_per_epoch, initial_epoch, epochs, shuffle, class_weight, max_queue_size, workers, use_multiprocessing, model, steps_per_execution)\u001b[0m\n\u001b[1;32m   1098\u001b[0m \u001b[0;34m\u001b[0m\u001b[0m\n\u001b[1;32m   1099\u001b[0m     \u001b[0madapter_cls\u001b[0m \u001b[0;34m=\u001b[0m \u001b[0mselect_data_adapter\u001b[0m\u001b[0;34m(\u001b[0m\u001b[0mx\u001b[0m\u001b[0;34m,\u001b[0m \u001b[0my\u001b[0m\u001b[0;34m)\u001b[0m\u001b[0;34m\u001b[0m\u001b[0;34m\u001b[0m\u001b[0m\n\u001b[0;32m-> 1100\u001b[0;31m     self._adapter = adapter_cls(\n\u001b[0m\u001b[1;32m   1101\u001b[0m         \u001b[0mx\u001b[0m\u001b[0;34m,\u001b[0m\u001b[0;34m\u001b[0m\u001b[0;34m\u001b[0m\u001b[0m\n\u001b[1;32m   1102\u001b[0m         \u001b[0my\u001b[0m\u001b[0;34m,\u001b[0m\u001b[0;34m\u001b[0m\u001b[0;34m\u001b[0m\u001b[0m\n",
      "\u001b[0;32m/opt/conda/lib/python3.8/site-packages/tensorflow/python/keras/engine/data_adapter.py\u001b[0m in \u001b[0;36m__init__\u001b[0;34m(self, x, y, sample_weights, shuffle, workers, use_multiprocessing, max_queue_size, model, **kwargs)\u001b[0m\n\u001b[1;32m    900\u001b[0m     \u001b[0mself\u001b[0m\u001b[0;34m.\u001b[0m\u001b[0m_keras_sequence\u001b[0m \u001b[0;34m=\u001b[0m \u001b[0mx\u001b[0m\u001b[0;34m\u001b[0m\u001b[0;34m\u001b[0m\u001b[0m\n\u001b[1;32m    901\u001b[0m     \u001b[0mself\u001b[0m\u001b[0;34m.\u001b[0m\u001b[0m_enqueuer\u001b[0m \u001b[0;34m=\u001b[0m \u001b[0;32mNone\u001b[0m\u001b[0;34m\u001b[0m\u001b[0;34m\u001b[0m\u001b[0m\n\u001b[0;32m--> 902\u001b[0;31m     super(KerasSequenceAdapter, self).__init__(\n\u001b[0m\u001b[1;32m    903\u001b[0m         \u001b[0mx\u001b[0m\u001b[0;34m,\u001b[0m\u001b[0;34m\u001b[0m\u001b[0;34m\u001b[0m\u001b[0m\n\u001b[1;32m    904\u001b[0m         \u001b[0mshuffle\u001b[0m\u001b[0;34m=\u001b[0m\u001b[0;32mFalse\u001b[0m\u001b[0;34m,\u001b[0m  \u001b[0;31m# Shuffle is handed in the _make_callable override.\u001b[0m\u001b[0;34m\u001b[0m\u001b[0;34m\u001b[0m\u001b[0m\n",
      "\u001b[0;32m/opt/conda/lib/python3.8/site-packages/tensorflow/python/keras/engine/data_adapter.py\u001b[0m in \u001b[0;36m__init__\u001b[0;34m(self, x, y, sample_weights, workers, use_multiprocessing, max_queue_size, model, **kwargs)\u001b[0m\n\u001b[1;32m    777\u001b[0m     \u001b[0;31m# Since we have to know the dtype of the python generator when we build the\u001b[0m\u001b[0;34m\u001b[0m\u001b[0;34m\u001b[0m\u001b[0;34m\u001b[0m\u001b[0m\n\u001b[1;32m    778\u001b[0m     \u001b[0;31m# dataset, we have to look at a batch to infer the structure.\u001b[0m\u001b[0;34m\u001b[0m\u001b[0;34m\u001b[0m\u001b[0;34m\u001b[0m\u001b[0m\n\u001b[0;32m--> 779\u001b[0;31m     \u001b[0mpeek\u001b[0m\u001b[0;34m,\u001b[0m \u001b[0mx\u001b[0m \u001b[0;34m=\u001b[0m \u001b[0mself\u001b[0m\u001b[0;34m.\u001b[0m\u001b[0m_peek_and_restore\u001b[0m\u001b[0;34m(\u001b[0m\u001b[0mx\u001b[0m\u001b[0;34m)\u001b[0m\u001b[0;34m\u001b[0m\u001b[0;34m\u001b[0m\u001b[0m\n\u001b[0m\u001b[1;32m    780\u001b[0m     \u001b[0mpeek\u001b[0m \u001b[0;34m=\u001b[0m \u001b[0mself\u001b[0m\u001b[0;34m.\u001b[0m\u001b[0m_standardize_batch\u001b[0m\u001b[0;34m(\u001b[0m\u001b[0mpeek\u001b[0m\u001b[0;34m)\u001b[0m\u001b[0;34m\u001b[0m\u001b[0;34m\u001b[0m\u001b[0m\n\u001b[1;32m    781\u001b[0m     \u001b[0mpeek\u001b[0m \u001b[0;34m=\u001b[0m \u001b[0m_process_tensorlike\u001b[0m\u001b[0;34m(\u001b[0m\u001b[0mpeek\u001b[0m\u001b[0;34m)\u001b[0m\u001b[0;34m\u001b[0m\u001b[0;34m\u001b[0m\u001b[0m\n",
      "\u001b[0;32m/opt/conda/lib/python3.8/site-packages/tensorflow/python/keras/engine/data_adapter.py\u001b[0m in \u001b[0;36m_peek_and_restore\u001b[0;34m(x)\u001b[0m\n\u001b[1;32m    911\u001b[0m   \u001b[0;34m@\u001b[0m\u001b[0mstaticmethod\u001b[0m\u001b[0;34m\u001b[0m\u001b[0;34m\u001b[0m\u001b[0m\n\u001b[1;32m    912\u001b[0m   \u001b[0;32mdef\u001b[0m \u001b[0m_peek_and_restore\u001b[0m\u001b[0;34m(\u001b[0m\u001b[0mx\u001b[0m\u001b[0;34m)\u001b[0m\u001b[0;34m:\u001b[0m\u001b[0;34m\u001b[0m\u001b[0;34m\u001b[0m\u001b[0m\n\u001b[0;32m--> 913\u001b[0;31m     \u001b[0;32mreturn\u001b[0m \u001b[0mx\u001b[0m\u001b[0;34m[\u001b[0m\u001b[0;36m0\u001b[0m\u001b[0;34m]\u001b[0m\u001b[0;34m,\u001b[0m \u001b[0mx\u001b[0m\u001b[0;34m\u001b[0m\u001b[0;34m\u001b[0m\u001b[0m\n\u001b[0m\u001b[1;32m    914\u001b[0m \u001b[0;34m\u001b[0m\u001b[0m\n\u001b[1;32m    915\u001b[0m   def _handle_multiprocessing(self, x, workers, use_multiprocessing,\n",
      "\u001b[0;32m~/work/nima/model/data_generator.py\u001b[0m in \u001b[0;36m__getitem__\u001b[0;34m(self, index)\u001b[0m\n\u001b[1;32m     68\u001b[0m         \u001b[0mprint\u001b[0m\u001b[0;34m(\u001b[0m\u001b[0mtype\u001b[0m\u001b[0;34m(\u001b[0m\u001b[0mself\u001b[0m\u001b[0;34m.\u001b[0m\u001b[0mmodel_preprocess_function\u001b[0m\u001b[0;34m)\u001b[0m\u001b[0;34m)\u001b[0m\u001b[0;34m\u001b[0m\u001b[0;34m\u001b[0m\u001b[0m\n\u001b[1;32m     69\u001b[0m         \u001b[0mprint\u001b[0m\u001b[0;34m(\u001b[0m\u001b[0mX\u001b[0m\u001b[0;34m.\u001b[0m\u001b[0mshape\u001b[0m\u001b[0;34m)\u001b[0m\u001b[0;34m\u001b[0m\u001b[0;34m\u001b[0m\u001b[0m\n\u001b[0;32m---> 70\u001b[0;31m         \u001b[0mX\u001b[0m \u001b[0;34m=\u001b[0m \u001b[0mself\u001b[0m\u001b[0;34m.\u001b[0m\u001b[0mmodel_preprocess_function\u001b[0m\u001b[0;34m(\u001b[0m\u001b[0mX\u001b[0m\u001b[0;34m)\u001b[0m\u001b[0;34m\u001b[0m\u001b[0;34m\u001b[0m\u001b[0m\n\u001b[0m\u001b[1;32m     71\u001b[0m         \u001b[0;31m# return the image and labels\u001b[0m\u001b[0;34m\u001b[0m\u001b[0;34m\u001b[0m\u001b[0;34m\u001b[0m\u001b[0m\n\u001b[1;32m     72\u001b[0m         \u001b[0;32mreturn\u001b[0m \u001b[0mX\u001b[0m\u001b[0;34m,\u001b[0m \u001b[0my\u001b[0m\u001b[0;34m\u001b[0m\u001b[0;34m\u001b[0m\u001b[0m\n",
      "\u001b[0;31mTypeError\u001b[0m: preprocess_input() takes 1 positional argument but 2 were given"
     ]
    }
   ],
   "metadata": {}
  },
  {
   "cell_type": "code",
   "execution_count": 50,
   "source": [
    "# result_df.head()\r\n",
    "np.empty((2, *(224, 224), 3))"
   ],
   "outputs": [
    {
     "output_type": "execute_result",
     "data": {
      "text/plain": [
       "array([[[[ 4.66312181e-310,  4.66312857e-310,  4.66312181e-310],\n",
       "         [ 4.66312857e-310, -1.61459546e+308, -1.67099367e+308],\n",
       "         [-1.61481319e+308, -1.55863356e+308, -1.55819467e+308],\n",
       "         ...,\n",
       "         [-1.27554356e+308, -1.27554356e+308, -1.21958767e+308],\n",
       "         [-1.27620361e+308, -1.21980454e+308, -1.10722670e+308],\n",
       "         [-1.21936394e+308, -1.16296572e+308, -1.16296572e+308]],\n",
       "\n",
       "        [[-1.16296572e+308, -1.10634892e+308, -1.16274714e+308],\n",
       "         [-1.10634892e+308, -1.04995071e+308, -9.93552498e+307],\n",
       "         [-9.37154286e+307, -9.37154286e+307, -8.89801320e+307],\n",
       "         ...,\n",
       "         [-1.04906950e+308, -1.10546771e+308, -1.10546771e+308],\n",
       "         [-9.92894163e+307, -9.93329624e+307, -9.93329624e+307],\n",
       "         [-9.93111894e+307, -9.93330482e+307, -9.93547355e+307]],\n",
       "\n",
       "        [[-9.93329624e+307, -1.04951011e+308, -1.04972869e+308],\n",
       "         [-1.04972869e+308, -1.10612691e+308, -1.10612691e+308],\n",
       "         [-1.10546771e+308, -1.16186593e+308, -1.10546686e+308],\n",
       "         ...,\n",
       "         [-8.32742630e+307, -8.32961217e+307, -8.32851923e+307],\n",
       "         [-8.32633764e+307, -8.89029405e+307, -9.35610456e+307],\n",
       "         [-9.35610456e+307, -8.60830299e+307, -8.32851923e+307]],\n",
       "\n",
       "        ...,\n",
       "\n",
       "        [[-1.06509368e+304, -1.17118925e+304, -9.62495161e+303],\n",
       "         [-9.28072424e+303, -7.55152490e+303, -6.52552925e+303],\n",
       "         [-5.49284714e+303, -5.49021022e+303, -5.48616067e+303],\n",
       "         ...,\n",
       "         [-6.91208437e+305, -1.62923151e+306, -2.45519287e+305],\n",
       "         [-1.05849396e+305, -2.35417347e+304, -5.49551021e+303],\n",
       "         [-1.37986660e+304, -2.06778245e+304, -2.62849013e+304]],\n",
       "\n",
       "        [[-8.59223810e+303,              nan, -5.49818376e+303],\n",
       "         [-4.46303424e+304, -3.22798329e+305, -3.00424393e+305],\n",
       "         [-1.65417175e+304, -7.93922514e+306,              nan],\n",
       "         ...,\n",
       "         [-4.91980163e+305, -1.02974991e+306, -1.71183813e+306],\n",
       "         [-9.62084451e+303, -1.24028272e+304, -2.48917099e+304],\n",
       "         [-1.06521977e+304, -1.30859663e+304, -2.48596693e+304]],\n",
       "\n",
       "        [[-9.95570141e+303, -9.61280296e+303, -7.54355138e+303],\n",
       "         [-5.82905389e+303, -1.37744210e+304, -6.52281386e+303],\n",
       "         [-9.96503526e+303, -2.56484169e+305, -2.23523392e+305],\n",
       "         ...,\n",
       "         [             nan,              nan,              nan],\n",
       "         [             nan,              nan,              nan],\n",
       "         [             nan,              nan,              nan]]],\n",
       "\n",
       "\n",
       "       [[[             nan,              nan,              nan],\n",
       "         [             nan,              nan,              nan],\n",
       "         [             nan,              nan,              nan],\n",
       "         ...,\n",
       "         [             nan,              nan,              nan],\n",
       "         [             nan,              nan,              nan],\n",
       "         [             nan,              nan,              nan]],\n",
       "\n",
       "        [[             nan,              nan,              nan],\n",
       "         [             nan,              nan,              nan],\n",
       "         [             nan,              nan,              nan],\n",
       "         ...,\n",
       "         [-7.89439720e+303, -1.17170931e+304, -1.06655602e+304],\n",
       "         [-6.87781387e+303, -8.24801073e+303, -5.48746867e+303],\n",
       "         [-6.85899968e+303, -7.55681966e+303, -5.49148682e+303]],\n",
       "\n",
       "        [[-7.90243351e+303, -7.21264984e+303, -8.24934489e+303],\n",
       "         [-9.62624391e+303, -6.18796742e+303, -4.99349378e+304],\n",
       "         [-3.31853540e+304, -3.04478378e+304, -1.20754935e+306],\n",
       "         ...,\n",
       "         [-1.80822435e+306, -2.24780406e+306, -2.33523782e+306],\n",
       "         [-2.15899341e+306, -1.80719302e+306, -2.24780406e+306],\n",
       "         [-1.71907081e+306, -1.07708715e+306, -1.99947482e+304]],\n",
       "\n",
       "        ...,\n",
       "\n",
       "        [[-1.99579300e+307, -2.30570008e+307, -1.85370132e+307],\n",
       "         [-1.64111187e+307, -1.64111294e+307, -1.35939940e+307],\n",
       "         [-1.50121999e+307, -1.29082606e+307, -1.22307564e+307],\n",
       "         ...,\n",
       "         [-1.60410925e+308, -1.60454985e+308, -1.66116665e+308],\n",
       "         [-1.66160726e+308, -1.66160726e+308, -1.71822320e+308],\n",
       "         [-1.77484171e+308,              nan,              nan]],\n",
       "\n",
       "        [[-1.77528232e+308,              nan,              nan],\n",
       "         [             nan,              nan,              nan],\n",
       "         [             nan,              nan,              nan],\n",
       "         ...,\n",
       "         [-1.30209404e+307, -1.23104874e+307, -1.37039522e+307],\n",
       "         [-1.29852592e+307, -1.36764894e+307, -1.50644788e+307],\n",
       "         [-1.85563860e+307, -2.20592763e+307, -2.58442733e+307]],\n",
       "\n",
       "        [[-2.72322198e+307, -3.14400127e+307, -3.28443747e+307],\n",
       "         [-3.28443318e+307, -3.70631613e+307, -3.70685831e+307],\n",
       "         [-4.13093570e+307, -4.41346895e+307, -4.61799636e+307],\n",
       "         ...,\n",
       "         [-1.50423950e+307, -1.71737756e+307, -1.71847907e+307],\n",
       "         [-1.50918237e+307, -1.44005828e+307, -1.44143195e+307],\n",
       "         [-1.44280670e+307, -1.79556662e+307, -2.00815607e+307]]]])"
      ]
     },
     "metadata": {},
     "execution_count": 50
    }
   ],
   "metadata": {}
  }
 ],
 "metadata": {
  "kernelspec": {
   "display_name": "Python 3",
   "language": "python",
   "name": "python3"
  },
  "language_info": {
   "name": "python",
   "version": "3.8.6",
   "mimetype": "text/x-python",
   "codemirror_mode": {
    "name": "ipython",
    "version": 3
   },
   "pygments_lexer": "ipython3",
   "nbconvert_exporter": "python",
   "file_extension": ".py"
  }
 },
 "nbformat": 4,
 "nbformat_minor": 5
}