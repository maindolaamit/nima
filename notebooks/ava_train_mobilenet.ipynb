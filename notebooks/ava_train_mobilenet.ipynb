{
 "cells": [
  {
   "cell_type": "markdown",
   "source": [
    "#### Install Libraries"
   ],
   "metadata": {}
  },
  {
   "cell_type": "code",
   "execution_count": 1,
   "source": [
    "! pip install livelossplot"
   ],
   "outputs": [
    {
     "output_type": "stream",
     "name": "stdout",
     "text": [
      "Collecting livelossplot\n",
      "  Downloading livelossplot-0.5.4-py3-none-any.whl (22 kB)\n",
      "Requirement already satisfied: ipython in /opt/conda/lib/python3.8/site-packages (from livelossplot) (7.19.0)\n",
      "Requirement already satisfied: matplotlib in /opt/conda/lib/python3.8/site-packages (from livelossplot) (3.3.3)\n",
      "Requirement already satisfied: bokeh in /opt/conda/lib/python3.8/site-packages (from livelossplot) (2.2.3)\n",
      "Requirement already satisfied: typing-extensions>=3.7.4 in /opt/conda/lib/python3.8/site-packages (from bokeh->livelossplot) (3.7.4.3)\n",
      "Requirement already satisfied: tornado>=5.1 in /opt/conda/lib/python3.8/site-packages (from bokeh->livelossplot) (6.1)\n",
      "Requirement already satisfied: PyYAML>=3.10 in /opt/conda/lib/python3.8/site-packages (from bokeh->livelossplot) (5.4.1)\n",
      "Requirement already satisfied: packaging>=16.8 in /opt/conda/lib/python3.8/site-packages (from bokeh->livelossplot) (20.8)\n",
      "Requirement already satisfied: Jinja2>=2.7 in /opt/conda/lib/python3.8/site-packages (from bokeh->livelossplot) (2.11.2)\n",
      "Requirement already satisfied: numpy>=1.11.3 in /opt/conda/lib/python3.8/site-packages (from bokeh->livelossplot) (1.19.5)\n",
      "Requirement already satisfied: pillow>=7.1.0 in /opt/conda/lib/python3.8/site-packages (from bokeh->livelossplot) (8.1.0)\n",
      "Requirement already satisfied: python-dateutil>=2.1 in /opt/conda/lib/python3.8/site-packages (from bokeh->livelossplot) (2.8.1)\n",
      "Requirement already satisfied: MarkupSafe>=0.23 in /opt/conda/lib/python3.8/site-packages (from Jinja2>=2.7->bokeh->livelossplot) (1.1.1)\n",
      "Requirement already satisfied: pyparsing>=2.0.2 in /opt/conda/lib/python3.8/site-packages (from packaging>=16.8->bokeh->livelossplot) (2.4.7)\n",
      "Requirement already satisfied: six>=1.5 in /opt/conda/lib/python3.8/site-packages (from python-dateutil>=2.1->bokeh->livelossplot) (1.15.0)\n",
      "Requirement already satisfied: decorator in /opt/conda/lib/python3.8/site-packages (from ipython->livelossplot) (4.4.2)\n",
      "Requirement already satisfied: traitlets>=4.2 in /opt/conda/lib/python3.8/site-packages (from ipython->livelossplot) (5.0.5)\n",
      "Requirement already satisfied: pickleshare in /opt/conda/lib/python3.8/site-packages (from ipython->livelossplot) (0.7.5)\n",
      "Requirement already satisfied: prompt-toolkit!=3.0.0,!=3.0.1,<3.1.0,>=2.0.0 in /opt/conda/lib/python3.8/site-packages (from ipython->livelossplot) (3.0.14)\n",
      "Requirement already satisfied: pygments in /opt/conda/lib/python3.8/site-packages (from ipython->livelossplot) (2.7.4)\n",
      "Requirement already satisfied: pexpect>4.3 in /opt/conda/lib/python3.8/site-packages (from ipython->livelossplot) (4.8.0)\n",
      "Requirement already satisfied: setuptools>=18.5 in /opt/conda/lib/python3.8/site-packages (from ipython->livelossplot) (49.6.0.post20210108)\n",
      "Requirement already satisfied: backcall in /opt/conda/lib/python3.8/site-packages (from ipython->livelossplot) (0.2.0)\n",
      "Requirement already satisfied: jedi>=0.10 in /opt/conda/lib/python3.8/site-packages (from ipython->livelossplot) (0.17.2)\n",
      "Requirement already satisfied: parso<0.8.0,>=0.7.0 in /opt/conda/lib/python3.8/site-packages (from jedi>=0.10->ipython->livelossplot) (0.7.1)\n",
      "Requirement already satisfied: ptyprocess>=0.5 in /opt/conda/lib/python3.8/site-packages (from pexpect>4.3->ipython->livelossplot) (0.7.0)\n",
      "Requirement already satisfied: wcwidth in /opt/conda/lib/python3.8/site-packages (from prompt-toolkit!=3.0.0,!=3.0.1,<3.1.0,>=2.0.0->ipython->livelossplot) (0.2.5)\n",
      "Requirement already satisfied: ipython-genutils in /opt/conda/lib/python3.8/site-packages (from traitlets>=4.2->ipython->livelossplot) (0.2.0)\n",
      "Requirement already satisfied: cycler>=0.10 in /opt/conda/lib/python3.8/site-packages (from matplotlib->livelossplot) (0.10.0)\n",
      "Requirement already satisfied: kiwisolver>=1.0.1 in /opt/conda/lib/python3.8/site-packages (from matplotlib->livelossplot) (1.3.1)\n",
      "Installing collected packages: livelossplot\n",
      "Successfully installed livelossplot-0.5.4\n"
     ]
    }
   ],
   "metadata": {}
  },
  {
   "cell_type": "markdown",
   "source": [
    "### Import libraries"
   ],
   "metadata": {}
  },
  {
   "cell_type": "code",
   "execution_count": 2,
   "source": [
    "import os\r\n",
    "from pathlib import Path\r\n",
    "import pandas as pd\r\n",
    "import matplotlib.pyplot as plt\r\n",
    "import seaborn as sns\r\n",
    "import numpy as np\r\n",
    "import tensorflow.keras as keras\r\n",
    "\r\n",
    "import sys\r\n",
    "sys.path.append('/home/jovyan/work')\r\n",
    "\r\n",
    "import nima as nima\r\n"
   ],
   "outputs": [],
   "metadata": {}
  },
  {
   "cell_type": "code",
   "execution_count": 23,
   "source": [
    "! pwd"
   ],
   "outputs": [
    {
     "output_type": "stream",
     "name": "stdout",
     "text": [
      "/home/jovyan\n"
     ]
    }
   ],
   "metadata": {}
  },
  {
   "cell_type": "code",
   "execution_count": 59,
   "source": [
    "AVA_DATASET_DIR = '/home/jovyan/work/data/AVA/'\r\n",
    "PROJECT_ROOT_DIR = '/home/jovyan/work/'\r\n",
    "AVA_IMAGES_DIR = os.path.join(AVA_DATASET_DIR, 'images')\r\n",
    "WEIGHTS_DIR = os.path.join(PROJECT_ROOT_DIR, )\r\n",
    "assert os.path.isdir(AVA_DATASET_DIR), f'Invalid directory : {AVA_DATASET_DIR}'\r\n",
    "\r\n",
    "from nima.utils.ava_dataset_utils import load_data, get_rating_columns"
   ],
   "outputs": [],
   "metadata": {}
  },
  {
   "cell_type": "markdown",
   "source": [
    "### Load Dataset"
   ],
   "metadata": {}
  },
  {
   "cell_type": "code",
   "execution_count": 60,
   "source": [
    "print(f'Project Root Directory : {PROJECT_ROOT_DIR}')\r\n",
    "\r\n",
    "df_train, df_valid, df_test = load_data(AVA_DATASET_DIR, sample_size=10000)\r\n",
    "print(f\"Training length : {len(df_train)}, Validation length : {len(df_valid)}, Test size : {len(df_test)}\")"
   ],
   "outputs": [
    {
     "output_type": "stream",
     "name": "stdout",
     "text": [
      "Project Root Directory : /home/jovyan/work/\n",
      "Number of samples picked 10000\n",
      "Training length : 6649, Validation length : 2850, Test size : 500\n"
     ]
    }
   ],
   "metadata": {}
  },
  {
   "cell_type": "markdown",
   "source": [
    "### Create Model"
   ],
   "metadata": {}
  },
  {
   "cell_type": "code",
   "execution_count": 62,
   "source": [
    "from nima.model.model_builder import NIMA\r\n",
    "\r\n",
    "nima_cnn = NIMA(base_model_name='vgg', metrics=['accuracy'])\r\n",
    "nima_cnn.build()\r\n",
    "nima_cnn.model.summary()\r\n",
    "nima_cnn.compile()"
   ],
   "outputs": [
    {
     "output_type": "stream",
     "name": "stdout",
     "text": [
      "Model's module - tensorflow.keras.applications.vgg19.VGG19\n"
     ]
    }
   ],
   "metadata": {}
  },
  {
   "cell_type": "markdown",
   "source": [
    "### Create Datagenerators"
   ],
   "metadata": {}
  },
  {
   "cell_type": "code",
   "execution_count": 63,
   "source": [
    "from nima.model.data_generator import NimaDataGenerator\r\n",
    "\r\n",
    "x_col, y_cols = 'image_id', get_rating_columns()\r\n",
    "\r\n",
    "train_datagen = NimaDataGenerator(\r\n",
    "    df_train,\r\n",
    "    AVA_IMAGES_DIR,\r\n",
    "    x_col,\r\n",
    "    y_cols,\r\n",
    "    nima_cnn.preprocessing_function(),\r\n",
    "    is_train=True,\r\n",
    "    batch_size=32,\r\n",
    ")\r\n",
    "valid_datagen = NimaDataGenerator(\r\n",
    "    df_valid,\r\n",
    "    AVA_IMAGES_DIR,\r\n",
    "    x_col,\r\n",
    "    y_cols,\r\n",
    "    nima_cnn.preprocessing_function(),\r\n",
    "    is_train=True,\r\n",
    "    batch_size=32,\r\n",
    ")\r\n",
    "test_datagen = NimaDataGenerator(\r\n",
    "    df_test,\r\n",
    "    AVA_IMAGES_DIR,\r\n",
    "    x_col,\r\n",
    "    None,\r\n",
    "    nima_cnn.preprocessing_function(),\r\n",
    "    is_train=False,\r\n",
    "    batch_size=32,\r\n",
    ")"
   ],
   "outputs": [
    {
     "output_type": "stream",
     "name": "stdout",
     "text": [
      "Found 6649 valid image filenames belonging to 10 classes.\n",
      "Found 2850 valid image filenames belonging to 10 classes.\n",
      "Found 500 valid image filenames belonging to 10 classes.\n"
     ]
    }
   ],
   "metadata": {}
  },
  {
   "cell_type": "code",
   "execution_count": 69,
   "source": [
    "from keras.callbacks import EarlyStopping, ModelCheckpoint, ReduceLROnPlateau\r\n",
    "from livelossplot.inputs.keras import PlotLossesCallback\r\n",
    "import time\r\n",
    "    \r\n",
    "arg_verbose, arg_epochs = 1, 32\r\n",
    "\r\n",
    "# # set model weight and path\r\n",
    "# weight_filename = f'{nima_cnn.base_model_name}_weight_best.hdf5'\r\n",
    "# weight_filepath = os.path.join(WEIGHTS_DIR, weight_filename)\r\n",
    "# print(f'Model Weight path : {weight_filepath}')\r\n",
    "\r\n",
    "# es = EarlyStopping(monitor='val_loss', patience=4, verbose=arg_verbose)\r\n",
    "# ckpt = ModelCheckpoint(\r\n",
    "#     filepath=weight_filepath,\r\n",
    "#     save_weights_only=True,\r\n",
    "#     monitor=\"val_earth_movers_distance\",\r\n",
    "#     mode=\"auto\",\r\n",
    "#     save_best_only=True,\r\n",
    "# )\r\n",
    "# lr = ReduceLROnPlateau(monitor='val_loss', patience=2, verbose=1)\r\n",
    "# plot_loss = PlotLossesCallback()\r\n",
    "\r\n",
    "# # start training\r\n",
    "# start_time = time.perf_counter()\r\n",
    "# history = nima_cnn.model.fit(train_datagen, validation_data=valid_datagen,\r\n",
    "#     epochs=arg_epochs, callbacks=[es, ckpt, lr, plot_loss],\r\n",
    "#     verbose=arg_verbose)\r\n",
    "# end_time = time.perf_counter()\r\n",
    "# print(f'Time taken : {time.strftime(\"%H:%M:%S\", time.gmtime(end_time-start_time))}')\r\n",
    "\r\n",
    "# result_df = pd.DataFrame(history.history)\r\n",
    "\r\n",
    "result_df = nima_cnn.train_model(train_datagen, valid_datagen, epochs=arg_epochs, verbose=arg_verbose)"
   ],
   "outputs": [
    {
     "output_type": "display_data",
     "data": {
      "text/plain": [
       "<Figure size 864x864 with 4 Axes>"
      ],
      "image/png": "[encoded data removed]"
     },
     "metadata": {
      "needs_background": "light"
     }
    },
    {
     "output_type": "stream",
     "name": "stdout",
     "text": [
      "accuracy\n",
      "\ttraining         \t (min:    0.036, max:    0.041, cur:    0.037)\n",
      "\tvalidation       \t (min:    0.031, max:    0.034, cur:    0.033)\n",
      "Loss\n",
      "\ttraining         \t (min:    0.368, max:    0.371, cur:    0.368)\n",
      "\tvalidation       \t (min:    0.369, max:    0.371, cur:    0.370)\n",
      "lr\n",
      "\tlr               \t (min:    0.000, max:    0.001, cur:    0.000)\n",
      "Epoch 00005: early stopping\n"
     ]
    }
   ],
   "metadata": {}
  },
  {
   "cell_type": "code",
   "execution_count": 54,
   "source": [
    "result_df.head()"
   ],
   "outputs": [
    {
     "output_type": "execute_result",
     "data": {
      "text/plain": [
       "       loss  val_loss      lr\n",
       "0  0.398475  0.328336  0.0010\n",
       "1  0.331985  0.327193  0.0010\n",
       "2  0.424851  0.331613  0.0010\n",
       "3  0.401859  0.329804  0.0010\n",
       "4  0.425339  0.324615  0.0001"
      ],
      "text/html": [
       "<div>\n",
       "<style scoped>\n",
       "    .dataframe tbody tr th:only-of-type {\n",
       "        vertical-align: middle;\n",
       "    }\n",
       "\n",
       "    .dataframe tbody tr th {\n",
       "        vertical-align: top;\n",
       "    }\n",
       "\n",
       "    .dataframe thead th {\n",
       "        text-align: right;\n",
       "    }\n",
       "</style>\n",
       "<table border=\"1\" class=\"dataframe\">\n",
       "  <thead>\n",
       "    <tr style=\"text-align: right;\">\n",
       "      <th></th>\n",
       "      <th>loss</th>\n",
       "      <th>val_loss</th>\n",
       "      <th>lr</th>\n",
       "    </tr>\n",
       "  </thead>\n",
       "  <tbody>\n",
       "    <tr>\n",
       "      <th>0</th>\n",
       "      <td>0.398475</td>\n",
       "      <td>0.328336</td>\n",
       "      <td>0.0010</td>\n",
       "    </tr>\n",
       "    <tr>\n",
       "      <th>1</th>\n",
       "      <td>0.331985</td>\n",
       "      <td>0.327193</td>\n",
       "      <td>0.0010</td>\n",
       "    </tr>\n",
       "    <tr>\n",
       "      <th>2</th>\n",
       "      <td>0.424851</td>\n",
       "      <td>0.331613</td>\n",
       "      <td>0.0010</td>\n",
       "    </tr>\n",
       "    <tr>\n",
       "      <th>3</th>\n",
       "      <td>0.401859</td>\n",
       "      <td>0.329804</td>\n",
       "      <td>0.0010</td>\n",
       "    </tr>\n",
       "    <tr>\n",
       "      <th>4</th>\n",
       "      <td>0.425339</td>\n",
       "      <td>0.324615</td>\n",
       "      <td>0.0001</td>\n",
       "    </tr>\n",
       "  </tbody>\n",
       "</table>\n",
       "</div>"
      ]
     },
     "metadata": {},
     "execution_count": 54
    }
   ],
   "metadata": {}
  }
 ],
 "metadata": {
  "kernelspec": {
   "display_name": "Python 3",
   "language": "python",
   "name": "python3"
  },
  "language_info": {
   "name": "python",
   "version": "3.8.6",
   "mimetype": "text/x-python",
   "codemirror_mode": {
    "name": "ipython",
    "version": 3
   },
   "pygments_lexer": "ipython3",
   "nbconvert_exporter": "python",
   "file_extension": ".py"
  }
 },
 "nbformat": 4,
 "nbformat_minor": 5
}